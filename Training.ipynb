{
 "cells": [
  {
   "cell_type": "code",
   "execution_count": 6,
   "metadata": {},
   "outputs": [],
   "source": [
    "from collections import Counter\n",
    "import pprint\n",
    "import numpy as np\n",
    "from tqdm import tqdm"
   ]
  },
  {
   "cell_type": "code",
   "execution_count": 8,
   "metadata": {},
   "outputs": [
    {
     "name": "stdout",
     "output_type": "stream",
     "text": [
      "483449\n"
     ]
    },
    {
     "data": {
      "text/plain": [
       "'Coldwatch_NP0 1991_CRD'"
      ]
     },
     "execution_count": 8,
     "metadata": {},
     "output_type": "execute_result"
    }
   ],
   "source": [
    "f = open(f\"./train_processed.txt\", \"r\")\n",
    "sentences = f.readlines()\n",
    "f.close()\n",
    "print(len(sentences))\n",
    "\n",
    "sentences = [sentence.rstrip() for sentence in sentences if len(sentence) > 2]\n",
    "sentences[27]"
   ]
  },
  {
   "cell_type": "code",
   "execution_count": 9,
   "metadata": {},
   "outputs": [
    {
     "name": "stdout",
     "output_type": "stream",
     "text": [
      "8899819\n",
      "by_PRP\n"
     ]
    }
   ],
   "source": [
    "word_tag_pairs = []\n",
    "for sentence in sentences:\n",
    "    for word_tag_pair in sentence.split(\" \"):\n",
    "        if len(word_tag_pair.strip()) != 0:\n",
    "            word_tag_pairs.append(word_tag_pair.strip())\n",
    "print(len(word_tag_pairs))\n",
    "print(word_tag_pairs[4])"
   ]
  },
  {
   "cell_type": "code",
   "execution_count": 10,
   "metadata": {},
   "outputs": [
    {
     "name": "stdout",
     "output_type": "stream",
     "text": [
      "no\n",
      "per\n"
     ]
    }
   ],
   "source": [
    "for pair in word_tag_pairs:\n",
    "    try:\n",
    "        tag = pair.split(\"_\")[1]\n",
    "    except:\n",
    "        print(pair)\n",
    "        word_tag_pairs.remove(pair)"
   ]
  },
  {
   "cell_type": "code",
   "execution_count": 13,
   "metadata": {},
   "outputs": [
    {
     "name": "stderr",
     "output_type": "stream",
     "text": [
      "100%|██████████| 9007481/9007481 [00:07<00:00, 1156687.01it/s]"
     ]
    },
    {
     "name": "stdout",
     "output_type": "stream",
     "text": [
      "by_PRP\n",
      "9007481\n"
     ]
    },
    {
     "name": "stderr",
     "output_type": "stream",
     "text": [
      "\n"
     ]
    }
   ],
   "source": [
    " for word_tag_pair in tqdm(word_tag_pairs):\n",
    "        word = word_tag_pair.split(\"_\")[0]\n",
    "        tag = word_tag_pair.split(\"_\")[1]\n",
    "        if \"_\" in tag:\n",
    "            word_tag_pairs.remove(word_tag_pair)\n",
    "            t1 = tag.split(\"_\")[0]\n",
    "            t2 = tag.split(\"_\")[1]\n",
    "            word_tag_pairs.append(f\"{word}_{t1}\")\n",
    "            word_tag_pairs.append(f\"{word}_{t2}\")\n",
    "print(word_tag_pairs[4])\n",
    "print(len(word_tag_pairs))"
   ]
  },
  {
   "cell_type": "code",
   "execution_count": 14,
   "metadata": {},
   "outputs": [],
   "source": [
    "all_words = [pair.split('_')[0] for pair in word_tag_pairs]\n",
    "all_tags = [pair.split('_')[1] for pair in word_tag_pairs]\n",
    "word_freq = Counter(all_words).most_common() \n",
    "tag_freq = Counter(all_tags).most_common() \n",
    "train_words = [word[0] for word in word_freq] \n",
    "tags = [word[0] for word in tag_freq] "
   ]
  },
  {
   "cell_type": "code",
   "execution_count": 15,
   "metadata": {},
   "outputs": [
    {
     "name": "stdout",
     "output_type": "stream",
     "text": [
      "by_PRP\n",
      "by\n",
      "(\"'s\", 69331)\n",
      "'s\n",
      "PRP\n",
      "('VVI', 212327)\n",
      "AT0\n",
      "No. of unique words in train dataset = 188189\n"
     ]
    }
   ],
   "source": [
    "print(word_tag_pairs[4])\n",
    "print(all_words[4])\n",
    "print(word_freq[10])\n",
    "print(train_words[10])\n",
    "print(all_tags[4])\n",
    "print(tag_freq[10])\n",
    "print(tags[1])\n",
    "print(f\"No. of unique words in train dataset = {len(train_words)}\")\n",
    "with open(\"./train_words.txt\", \"w+\") as f:\n",
    "    for word in train_words:\n",
    "        f.write(f\"{word}\\n\")\n",
    "    f.close()"
   ]
  },
  {
   "cell_type": "code",
   "execution_count": 16,
   "metadata": {},
   "outputs": [
    {
     "name": "stdout",
     "output_type": "stream",
     "text": [
      "{0: 'NN1', 1: 'AT0', 2: 'PRP', 3: 'AJ0', 4: 'NN2', 5: 'NP0', 6: 'AV0', 7: 'PNP', 8: 'CJC', 9: 'PRF', 10: 'VVI', 11: 'VVN', 12: 'DT0', 13: 'VVD', 14: 'CRD', 15: 'TO0', 16: 'DPS', 17: 'VVG', 18: 'VM0', 19: 'VBD', 20: 'CJS', 21: 'VBZ', 22: 'VVB', 23: 'VVZ', 24: 'CJT', 25: 'AVP', 26: 'POS', 27: 'XX0', 28: 'VBI', 29: 'DTQ', 30: 'NN0', 31: 'VBB', 32: 'VHD', 33: 'ORD', 34: 'NN1-VVB', 35: 'VHZ', 36: 'AJ0-NN1', 37: 'VHB', 38: 'PNI', 39: 'NP0-NN1', 40: 'VBN', 41: 'PNQ', 42: 'EX0', 43: 'AVQ', 44: 'AJC', 45: 'VHI', 46: 'PRP-AVP', 47: 'NN1-AJ0', 48: 'VVN-VVD', 49: 'VVD-VVN', 50: 'VVB-NN1', 51: 'PNX', 52: 'UNC', 53: 'AJS', 54: 'NN1-NP0', 55: 'VDB', 56: 'VDD', 57: 'VVG-AJ0', 58: 'VBG', 59: 'NN2-VVZ', 60: 'VVG-NN1', 61: 'VVN-AJ0', 62: 'ITJ', 63: 'VDI', 64: 'AVP-PRP', 65: 'AV0-AJ0', 66: 'CJT-DT0', 67: 'ZZ0', 68: 'VDZ', 69: 'NN1-VVG', 70: 'AJ0-AV0', 71: 'VVZ-NN2', 72: 'AJ0-VVG', 73: 'PRP-CJS', 74: 'CJS-AVQ', 75: 'AJ0-VVN', 76: 'CJS-PRP', 77: 'VHG', 78: 'DT0-CJT', 79: 'VDN', 80: 'VHN', 81: 'AJ0-VVD', 82: 'VDG', 83: 'AVQ-CJS', 84: 'VVD-AJ0', 85: 'PNI-CRD', 86: 'CRD-PNI', 88: 'start'}\n"
     ]
    }
   ],
   "source": [
    "tags_to_index = {}\n",
    "for index in range(len(tag_freq)):\n",
    "    tags_to_index[tag_freq[index][0]] = index\n",
    "#print(tags_to_index)\n",
    "tags_to_index[\"start\"] = len(tags_to_index) #last tag is start tag\n",
    "np.save(\"tag_to_index.npy\", tags_to_index)\n",
    "\n",
    "index_to_tags = {}\n",
    "for index in range(len(tag_freq)):\n",
    "    index_to_tags[index] = tag_freq[index][0]\n",
    "index_to_tags[len(tags_to_index)] = \"start\" #last tag is start tag\n",
    "np.save(\"index_to_tag.npy\", index_to_tags)\n",
    "print(index_to_tags)"
   ]
  },
  {
   "cell_type": "code",
   "execution_count": 17,
   "metadata": {},
   "outputs": [
    {
     "name": "stderr",
     "output_type": "stream",
     "text": [
      "100%|██████████| 9007481/9007481 [00:10<00:00, 863641.51it/s]"
     ]
    },
    {
     "name": "stdout",
     "output_type": "stream",
     "text": [
      "5377\n"
     ]
    },
    {
     "name": "stderr",
     "output_type": "stream",
     "text": [
      "\n"
     ]
    }
   ],
   "source": [
    "em_prob_of_words_for_each_tag = {}\n",
    "for word_tag_pair in tqdm(word_tag_pairs):\n",
    "    word = word_tag_pair.split(\"_\")[0]\n",
    "    tag = word_tag_pair.split(\"_\")[1]\n",
    "    if \"-\" not in tag:\n",
    "        if tag not in em_prob_of_words_for_each_tag:\n",
    "            em_prob_of_words_for_each_tag[tag] = {}\n",
    "            \n",
    "        if word not in em_prob_of_words_for_each_tag[tag]:\n",
    "            em_prob_of_words_for_each_tag[tag][word] = 0\n",
    "        em_prob_of_words_for_each_tag[tag][word] += 1\n",
    "    else:\n",
    "        tag1 = tag.split(\"-\")[0]\n",
    "        tag2 = tag.split(\"-\")[1]\n",
    "        if tag1 not in em_prob_of_words_for_each_tag:\n",
    "            em_prob_of_words_for_each_tag[tag1] = {}\n",
    "        if tag2 not in em_prob_of_words_for_each_tag:\n",
    "            em_prob_of_words_for_each_tag[tag2] = {}\n",
    "\n",
    "        if word not in em_prob_of_words_for_each_tag.get(tag1):\n",
    "            em_prob_of_words_for_each_tag[tag1][word] = 0\n",
    "        em_prob_of_words_for_each_tag[tag1][word] += 1\n",
    "        if word not in em_prob_of_words_for_each_tag.get(tag2):\n",
    "            em_prob_of_words_for_each_tag[tag2][word] = 0\n",
    "        em_prob_of_words_for_each_tag[tag2][word] += 1\n",
    "\n",
    "print(em_prob_of_words_for_each_tag[\"VVI\"][\"make\"])"
   ]
  },
  {
   "cell_type": "code",
   "execution_count": 18,
   "metadata": {},
   "outputs": [],
   "source": [
    "for tag in em_prob_of_words_for_each_tag:\n",
    "    total_words_forthis_tag = 0\n",
    "    \n",
    "    for word in em_prob_of_words_for_each_tag.get(tag):\n",
    "        total_words_forthis_tag += 1\n",
    "\n",
    "    for word in em_prob_of_words_for_each_tag.get(tag):\n",
    "        em_prob_of_words_for_each_tag[tag][word]"
   ]
  },
  {
   "cell_type": "code",
   "execution_count": 19,
   "metadata": {},
   "outputs": [],
   "source": [
    "np.save(\"word_given_tag.npy\", em_prob_of_words_for_each_tag)"
   ]
  },
  {
   "cell_type": "code",
   "execution_count": 20,
   "metadata": {},
   "outputs": [],
   "source": [
    "loaded_freq_of_words_for_each_tag = np.load(\"word_given_tag.npy\",allow_pickle=True).item()"
   ]
  },
  {
   "cell_type": "code",
   "execution_count": 21,
   "metadata": {},
   "outputs": [
    {
     "name": "stdout",
     "output_type": "stream",
     "text": [
      "the tags for be checked: VVI\n",
      "{'miss': 212, 'see': 4646, 'attend': 215, 'form': 500, 'update': 23, 'continue': 914, 'look': 1757, 'derive': 35, 'keep': 1763, 'like': 1433, 'welcome': 100, 'Cut': 1, 'receive': 418, 'come': 2303, 'need': 980, 'recruit': 65, 'support': 540, 'go': 4480, 'assist': 136, 'reflect': 199, 'reach': 584, 'follow': 537, 'ensure': 812, 'participate': 107, 'subsidise': 20, 'retain': 212, 'cover': 397, 'apply': 366, 'comment': 110, 'discuss': 323, 'help': 1855, 'put': 1355, 'use': 1373, 'provide': 1329, 'enlist': 12, 'thank': 68, 'hear': 805, 'persuade': 283, 'care': 307, 're-launch': 2, 'refer': 106, 'feature': 49, 'nominate': 17, 'join': 678, 'share': 303, 'benefit': 217, 'publicise': 13, 'highlight': 30, 'suggest': 340, 'ask': 749, 'vote': 293, 'talk': 687, 'delay': 74, 'generate': 98, 'develop': 578, 'set': 619, 'increase': 550, 'schedule': 8, 'make': 5377, 'guide': 58, 'charge': 78, 'get': 4782, 'take': 4461, 'buy': 979, 'cost': 263, 'act': 347, 'effect': 32, 'enable': 270, 'give': 2735, 'rely': 153, 'tell': 1368, 'capture': 69, 'complete': 221, 'subscribe': 28, 'wish': 216, 'speak': 540, 'say': 2749, 'prefer': 162, 'bring': 1051, 'live': 823, 'manage': 275, 'cope': 379, 'qualify': 122, 'claim': 301, 'pay': 1267, 'leave': 1004, 'save': 435, 'accumulate': 36, 'find': 2616, 'occupy': 62, 'want': 1589, 'move': 781, 'obtain': 244, 'exist': 262, 'stay': 808, 'improve': 494, 'adapt': 87, 'repair': 53, 'suit': 157, 'die': 329, 'experience': 99, 'combat': 72, 'reduce': 580, 'decrease': 26, 'depend': 180, 'walk': 304, 'encourage': 422, 'remain': 567, 'think': 2077, 'visit': 365, 'recommend': 103, 'regain': 64, 'change': 849, 'become': 1590, 'meet': 1063, 'affect': 265, 'decline': 49, 'lead': 670, 'believe': 932, 'learn': 531, 'communicate': 120, 'respond': 249, 'include': 457, 'cause': 403, 'promote': 245, 'illustrate': 69, 'show': 1009, 'Buy': 8, 'imply': 71, 'consider': 516, 'transfer': 76, 'safeguard': 54, 'require': 279, 'acquire': 123, 'plan': 135, 'exceed': 64, 'fall': 570, 'monitor': 100, 'disclose': 48, 'express': 208, 'organise': 93, 'contain': 201, 'tackle': 170, 'introduce': 319, 'exercise': 104, 'broaden': 35, 'stabilise': 23, 'serve': 310, 'freeze': 27, 'appeal': 143, 'allow': 762, 'determine': 174, 'produce': 768, 'compete': 208, 'renovate': 4, 'drop': 213, 'involve': 211, 'carry': 548, 'consult': 62, 'challenge': 120, 'enforce': 87, 'deal': 473, 'lack': 36, 'circumvent': 13, 'stop': 818, 'inform': 77, 'send': 415, 'write': 555, 'offer': 663, 'explain': 482, 'BUY': 2, 'purchase': 86, 'rent': 25, 'review': 97, 'turn': 809, 'escape': 293, 'roll': 59, 'adopt': 162, 'submit': 64, 'record': 142, 'prevent': 608, 'mean': 944, 'clear': 158, 'feel': 1107, 'demonstrate': 164, 'complain': 99, 'collect': 167, 'ease': 101, 'result': 193, 'enhance': 94, 'afford': 357, 'protect': 495, 'supply': 138, 'arise': 90, 'raise': 548, 'stimulate': 58, 'confront': 60, 'investigate': 125, 'present': 213, 'identify': 236, 'check': 221, 'conflict': 14, 'play': 1161, 'relate': 82, 'neglect': 19, 'clarify': 37, 'decide': 456, 'maintain': 426, 'negotiate': 133, 'seek': 335, 'approve': 85, 'appropriate': 11, 'impose': 163, 'travel': 236, 'assess': 139, 'remove': 310, 'appear': 558, 'work': 1425, 'shift': 82, 'register': 59, 'place': 129, 'accept': 725, 'overlook': 27, 'face': 433, 'create': 676, 'prove': 596, 'gain': 236, 'cater': 36, 're-negotiate': 2, 'happen': 573, 'choose': 389, 'grow': 439, 'prosper': 24, 'attract': 242, 'focus': 92, 'handle': 203, 'solve': 172, 'sustain': 131, 'enjoy': 416, 'invest': 183, 'lie': 208, 'emphasise': 62, 'know': 2665, 'rebuild': 54, 'eliminate': 81, 'overdo': 4, 'indicate': 122, 'switch': 102, 'credit': 13, 'portray': 32, 'abandon': 124, 'drive': 302, 'repeat': 86, 'seem': 834, 'accommodate': 134, 'close': 261, 'double': 64, 'recall': 133, 'contemplate': 76, 'rob': 16, 'attach': 38, 'convey': 99, 'restore': 198, 'leap': 32, 'open': 380, 'stand': 608, 'watch': 367, 'shut': 70, 'combine': 82, 'replace': 287, 'survive': 334, 'admit': 257, 'regard': 133, 'represent': 210, 'strive': 26, 'sound': 170, 'return': 565, 'convert': 105, 'load': 24, 'build': 659, 'seize': 64, 'pick': 296, 'bail': 11, 'design': 84, 'stray': 7, 'specify': 31, 'run': 792, 'group': 4, 'deploy': 20, 'maximise': 36, 'earn': 168, 'bite': 43, 'achieve': 564, 'satisfy': 144, 'terminate': 26, 'veto': 14, 'operate': 223, 'resolve': 97, 'sell': 671, 'channel': 16, 'spread': 109, 'justify': 158, 'exploit': 104, 'spend': 480, 'offset': 49, 'accelerate': 44, 'prepare': 204, 'fill': 258, 'start': 739, 'withstand': 50, 'train': 92, 'add': 363, 'refuel': 6, 'replenish': 7, 'authorise': 16, 'pass': 351, 'compensate': 90, 'release': 106, 'necessitate': 9, 'upgrade': 26, 'sip': 6, 'voice': 19, 'co-ordinate': 40, 'head': 96, 'commission': 13, 'undertake': 83, 'profit': 28, 'expect': 621, 'disembark': 1, 'sample': 34, 'boast': 31, 'describe': 222, 'gauge': 17, 'hire': 51, 'railtour': 1, 'avoid': 628, 'match': 241, 'extend': 205, 'control': 306, 'fund': 82, 'proceed': 93, 'electrify': 3, 'link': 72, 'reopen': 29, 'launch': 118, 'celebrate': 139, 'NSE': 1, 'cross': 127, 'envisage': 30, 'inaugurate': 3, 'belong': 127, 'smarten': 6, 'cut': 460, 'refurbish': 3, 'life-extend': 1, 'extract': 43, 'inherit': 29, 'arrange': 126, 'revolutionise': 7, 'wait': 376, 'suffer': 245, 'eat': 492, 'retail': 3, 'dilute': 21, 'exchange': 38, 'matter': 216, 'staff': 4, 'sweep': 32, 'blame': 177, 'emerge': 163, 'tailor': 9, 'fit': 257, 'vary': 89, 'linger': 23, 'recover': 184, 'function': 80, 'shed': 49, 'explore': 143, 'deny': 172, 'imagine': 347, 'criticise': 47, 'concentrate': 226, 'occur': 218, 'haul': 23, 'shrink': 41, 'eradicate': 27, 'lease': 11, 'enter': 305, 'note': 106, 'resist': 204, 'tilt': 9, 'press': 141, 'split': 69, 'align': 5, 'mention': 197, 'stem': 34, 'slow': 68, 'begin': 418, 'marshal': 3, 'relay': 7, 'centre': 14, 'privatise': 34, 'examine': 199, 'reprieve': 1, 'refuse': 110, 'marvel': 9, 'spell': 49, 'emulate': 44, 'embark': 35, 'break': 477, 'service': 35, 'finance': 147, 'underline': 33, 'contrast': 22, 'prevail': 41, 'compose': 17, 'flow': 69, 'applaud': 18, 'understand': 905, 'enlarge': 19, 'last': 239, 'dance': 87, 'anticipate': 50, 'study': 163, 'stage': 48, 'interpret': 79, 'attempt': 129, 'reveal': 195, 'parallel': 7, 'destroy': 176, 'entertain': 49, 'display': 84, 'weave': 11, 'listen': 234, 'realise': 236, 'remember': 637, 'accent': 2, 'conjure': 11, 'swell': 20, 'depart': 20, 'win': 1029, 'resemble': 22, 'perform': 170, 'trigger': 24, 'mould': 13, 'select': 56, 'appreciate': 157, 'bend': 37, 'stretch': 46, 'rise': 340, 'rotate': 11, 'Explain': 1, 'command': 44, 'assume': 170, 'name': 92, 'relieve': 66, 'sink': 56, 'range': 19, 'observe': 73, 'delineate': 1, 'answer': 287, 'conform': 62, 'hold': 643, 'establish': 382, 'marry': 125, 'pray': 82, 'mourn': 13, 'contradict': 19, 'acknowledge': 119, 'preserve': 178, 'herald': 8, 'accompany': 73, 'heighten': 10, 'mark': 129, 'end': 465, 'tie': 58, 'harness': 16, 'approach': 83, 'distinguish': 114, 'concern': 34, 'initiate': 33, 'borrow': 110, 'coincide': 48, 'steal': 56, 'order': 94, 'deprive': 32, 'arouse': 25, 'compile': 9, 'fail': 176, 'count': 130, 'manipulate': 28, 'wreck': 12, 'dispense': 23, 'overload': 3, 'woo': 22, 'convince': 126, 'owe': 10, 'conclude': 82, 'inspire': 40, 'draw': 346, 'devise': 27, 're-create': 6, 'colour': 19, 'behave': 105, 'comply': 64, 'complement': 25, 'steady': 17, 'twist': 18, 'lift': 147, 'catch': 328, 'step': 122, 'proffer': 4, 'rest': 158, 'practise': 64, 'counter-balance': 2, 'manoeuvre': 18, 'breathe': 88, 'call': 594, 'list': 34, 'amalgamate': 2, 'digest': 14, 'sit': 423, 'lose': 546, 'propel': 13, 'glide': 6, 'weigh': 49, 'dart': 4, 'pause': 22, 'lend': 86, 'fly': 164, 'crown': 5, 'sum': 26, 'distort': 19, 'pose': 45, 'denote': 9, 'wake': 93, 'greet': 49, 'characterise': 13, 'balance': 67, 'reign': 8, 'adhere': 15, 'locate': 47, 'object': 40, 'offend': 30, 'accentuate': 10, 'lay': 121, 'reinforce': 71, 'sleep': 232, 'recognise': 236, 'spin': 22, 'score': 152, 'influence': 142, 'incorporate': 45, 'reap': 28, 'push': 205, 'throw': 191, 'base': 24, 'soar': 21, 'float': 39, 'stress': 69, 'translate': 47, 'depict': 20, 'try': 893, 'comfort': 28, 'recur': 7, 'denounce': 27, 'react': 89, 'discover': 204, 'exert': 32, 'strut': 1, 'intrigue': 5, 'dissemble': 1, 'emanate': 6, 'strengthen': 128, 'crouch': 2, 'frustrate': 14, 'laugh': 85, 'probe': 22, 'dominate': 100, 'postpone': 36, 'point': 180, 'creep': 33, 'toss': 13, 'unfold': 11, 'cast': 53, 'demean': 1, 'harmonise': 6, 'shock': 20, 'spring': 30, 'relax': 111, 'defy': 29, 'elongate': 1, 'define': 120, 'free': 97, 'search': 70, 'indulge': 36, 'state': 48, 'JOIN': 1, 'keg': 1, 'drum': 16, 'cask': 2, 'pride': 3, 'mask': 13, 'speed': 67, 'declare': 82, 'germinate': 18, 'purge': 10, 'prolong': 16, 'force': 187, 'condition': 5, 'drink': 147, 'READ': 2, 'opt': 58, 'cease': 62, 'abide': 24, 'TAKE': 3, 'PAY': 2, 'instruct': 25, 'cancel': 71, 'stock': 19, 'prompt': 24, 'expand': 143, 'whet': 6, 'read': 479, 'oppose': 74, 'sign': 150, 'report': 144, 'consume': 21, 'sponsor': 22, 'relabel': 1, 'propose': 47, 'seep': 8, 'fetch': 70, 'let': 642, 'exclude': 76, 'abuse': 20, 'evict': 5, 'quit': 47, 'shoulder': 17, 'demand': 104, 'fade': 39, 'rescue': 75, 'impart': 7, 'bear': 292, 'guess': 81, 'taste': 86, 'flatten': 13, 'interfere': 69, 'immortalise': 1, 'brew': 7, 'export': 34, 'beat': 271, 'knock': 75, 'rub': 29, 'dry': 67, 'frighten': 37, 'fight': 373, 'pop': 33, 'taint': 5, 'yeast': 1, 'trub': 1, 'worry': 266, 'bulk': 6, 'couple': 3, 'overcome': 152, 'crush': 30, 'catalyse': 3, 'perfect': 11, 'separate': 83, 'formulate': 25, 'hop': 8, 'chart': 9, 'innovate': 10, 'test': 144, 'attack': 131, 'ring': 97, 'remind': 100, 'replicate': 10, 'transport': 26, 'cry': 96, 'pawn': 1, 'wind': 20, 'agree': 351, 'drag': 65, 'queue': 12, 'hang': 127, 'forget': 354, 'intend': 42, 'treat': 156, 'stick': 136, 'compromise': 46, 'cook': 70, 'notice': 149, 'kill': 295, 'harm': 56, 'wear': 307, 'expound': 4, 'advertise': 36, 'argue': 296, 'condone': 12, 're-introduce': 1, 'dismiss': 70, 'hope': 202, 'resort': 24, 'arrive': 176, 'shorten': 12, 'wave': 33, 'bid': 48, 'secure': 220, 'impress': 57, 'part': 32, 'announce': 110, 'withhold': 14, 'elect': 42, 're-appoint': 1, 'fix': 101, 'debate': 37, 'summon': 34, 'pin': 28, 'dream': 53, 'speculate': 30, 'pre-empt': 17, 'devalue': 9, 'deteriorate': 25, 'intervene': 99, 'park': 18, 'ignore': 157, 'contact': 80, 'furnish': 12, 'interest': 32, 'climb': 108, 'file': 20, 'slim': 3, 'progress': 33, 'exit': 3, 'intercept': 11, 'surmount': 6, 'rip': 22, 'counter': 68, 'bother': 132, 'ban': 86, 'inhabit': 11, 'kick': 55, 'land': 89, 'overhang': 2, 'bridge': 33, 'cling': 23, 'rediscover': 10, 'swop': 4, 'reappear': 21, 'commemorate': 24, 'peer': 22, 'sense': 48, 'descend': 26, 'suspend': 35, 'supplement': 45, 'bivouac': 2, 'disappoint': 18, 'predict': 90, 'scoff': 8, 'finish': 156, 'succeed': 228, 'aim': 59, 'trust': 134, 'brave': 5, 'bestow': 7, 'mingle': 6, 'pursue': 133, 'navigate': 10, 'lecture': 13, 'photograph': 21, 'steel': 2, 'zigzag': 1, 'camp': 3, 'bathe': 4, 'console': 13, 'equate': 18, 'jump': 88, 'monopolise': 4, 'abseil': 1, 'infect': 10, 'rage': 3, 'damage': 78, 'accomplish': 18, 'waver': 10, 'collapse': 55, 'compare': 95, 'liken': 2, 'absorb': 71, 'regret': 43, 'savour': 14, 'explode': 39, 'fault': 13, 'presume': 16, 'refrain': 25, 'usurp': 11, 'levitate': 1, 'nourish': 12, 'slip': 104, 'venture': 29, 'tickle': 3, 'decipher': 14, 'tend': 72, 'tempt': 31, 'issue': 110, 'dissociate': 5, 'enclose': 7, 'confiscate': 5, 'please': 96, 'complicate': 14, 'congratulate': 18, 'shout': 70, 'settle': 198, 'defend': 240, 'desist': 5, 'relive': 7, 'aid': 61, 'facilitate': 48, 'ACCESS': 1, 'erect': 28, 'store': 40, 'obliterate': 7, 'sand': 1, 'liberate': 25, 'obscure': 31, 'crack': 52, 'bare': 6, 'pine': 2, 'fuse': 8, 'harden': 13, 'heat': 23, 'spoil': 36, 'pour': 44, 'mar': 4, 'flake': 4, 'peel': 6, 'thin': 8, 'darken': 7, 'illuminate': 17, 'experiment': 31, 'install': 51, 'overheat': 5, 'chase': 23, 'feed': 141, 'redecorate': 4, 'pull': 276, 'bury': 50, 're-use': 4, 'transform': 75, 'drill': 9, 'top': 54, 'consolidate': 41, 'disturb': 32, 'level': 32, 'brush': 28, 'activate': 10, 'connect': 32, 'house': 61, 'tamp': 1, 'evaporate': 10, 'overtighten': 2, 'lower': 73, 'snap': 19, 'smooth': 20, 'price': 23, 'dawn': 13, 'unpack': 4, 'mix': 55, 'guarantee': 124, 'divide': 63, 'harbour': 10, 'over-buy': 1, 'tile': 5, 'slump': 3, 'calculate': 45, 'FIX': 1, 'punch': 13, 'clamp': 16, 'saw': 4, 'master': 32, 'abrade': 4, 'screw': 8, 'reimburse': 6, 'forward': 4, 'nail': 4, 'slide': 38, 'tighten': 47, 'clean': 98, 'paint': 46, 'rot': 14, 'bask': 10, 'ENTER': 4, 'reward': 32, 'construct': 64, 'simulate': 11, 'woodgrain': 1, 'circulate': 20, 'inhibit': 17, 'disguise': 36, 'tolerate': 62, 'reposition': 3, 'hide': 150, 'shine': 31, 'direct': 78, 'readjust': 5, 'strip': 24, 'peck': 5, 'buckle': 9, 'assemble': 18, 'plant': 60, 'flower': 18, 'detract': 13, 'propagate': 11, 'root': 20, 'trip': 4, 'warn': 70, 'naturalise': 3, 'stain': 5, 'measure': 104, 'discolour': 2, 'deter': 57, 'splurge': 2, 'entitle': 10, 'inspect': 37, 'reply': 67, 'rust': 9, 'squirt': 2, 'leak': 9, 'disintegrate': 9, 'advise': 101, 'SEE': 3, 'penetrate': 39, 'insert': 14, 'reform': 85, 'stream': 4, 'soak': 22, 'dust': 13, 'confirm': 134, 'disconnect': 4, 'deposit': 7, 'expel': 20, 'loosen': 19, 'apologise': 26, 'print': 35, 'nest': 3, 'restrict': 67, 'sing': 116, 'hand': 98, 'pet': 2, 'wee': 1, 'co-operate': 42, 'disgrace': 2, 'prohibit': 10, 'browse': 14, 'socialise': 5, 'toilettrain': 1, 'groom': 10, 'road-walk': 1, 'correct': 57, 'KNOW': 3, 'INVITE': 1, 'SPARE': 1, 'trace': 44, 'figure': 46, 'howl': 3, 'expose': 48, 'alleviate': 24, 'endear': 7, 'remark': 26, 'wag': 5, 'neutralise': 11, 'cloud': 5, 'shake': 87, 'over-indulge': 2, 'love': 207, 'budge': 15, 'breed': 45, 'devote': 46, 'busy': 4, 'hit': 138, 'chew': 18, 'beg': 9, 'flush': 9, 'mind': 250, 'photocopy': 1, 'smile': 53, 'chastise': 4, 'associate': 30, 'reprimand': 5, 'wax': 5, 'wane': 9, 'clip': 7, 'retire': 94, 'comprehend': 28, 'upset': 61, 'publish': 115, 'edit': 11, 'spot': 54, 'calm': 37, 'alter': 126, 'boost': 118, 'gather': 70, 'deliver': 148, 'donate': 16, 'hurt': 111, 'light': 59, 'worsen': 18, 'wrestle': 10, 'invite': 79, 'coat': 9, 'foresee': 29, 'wonder': 118, 'panic': 22, 'bowl': 24, 'acclimatise': 5, 'reassure': 76, 'wreak': 7, 'melt': 25, 'thrive': 51, 'thwart': 21, 'fuss': 6, 'perish': 10, 'murder': 53, 'dare': 61, 'cohere': 2, 'unravel': 18, 'quell': 11, 'transpose': 4, 'infer': 15, 'torture': 3, 'deem': 4, 'confess': 31, 'exclaim': 8, 'question': 93, 'recognize': 115, 'commit': 106, 'induce': 32, 'surrender': 61, 'theorize': 1, 'freshen': 2, 'struggle': 51, 'soften': 34, 'perch': 3, 'possess': 52, 'dissolve': 37, 'suppose': 124, 'bolt': 4, 'divine': 7, 'lock': 35, 'rephrase': 1, 'rejoin': 16, 'repent': 10, 'reintroduce': 16, 'isolate': 34, 'fear': 85, 'sniff': 12, 'evoke': 20, 'engage': 73, 'rouse': 10, 'touch': 178, 'transpersonalize': 1, 'socialize': 4, 'loaf': 3, 'lounge': 6, 'realize': 97, 'smoke': 37, 'stir': 38, 'stifle': 15, 'assert': 54, 'enrage': 6, 'idle': 1, 'hate': 56, 'own': 94, 'despair': 19, 'amount': 35, 'latch': 3, 'yawn': 3, 'flaunt': 11, 'disengage': 2, 'evaluate': 38, 'propitiate': 3, 'elucidate': 4, 'embrace': 62, 'loose': 14, 'forgive': 61, 'mutilate': 3, 'entail': 20, 'banish': 24, 'eclipse': 3, 'sort': 95, 'strike': 115, 'reinstate': 9, 'forego': 6, 'muffle': 3, 'spew': 1, 'utter': 11, 'encounter': 31, 'account': 105, 'uphold': 35, 'encompass': 22, 'protest': 59, 'view': 82, 'mimic': 15, 'astonish': 6, 'thrust': 8, 'renounce': 14, 'shoot': 103, 'prick': 7, 'spare': 72, 'revile': 1, 'mock': 18, 'foster': 29, 'tear': 44, 'prescribe': 20, 'concede': 69, 'flog': 3, 'universalize': 3, 'quote': 50, 'seed': 11, 'elope': 3, 'pack': 37, 'constitute': 51, 'accord': 17, 'shield': 7, 'catalogue': 7, 'repel': 17, 'estimate': 32, 'process': 21, 'dissipate': 12, 'compress': 8, 'insulate': 8, 'superconduct': 1, 'trap': 28, 'simplify': 27, 'restrain': 38, 'integrate': 26, 'magnetise': 1, 'saturate': 3, 'gloss': 6, 'angle': 3, 'limit': 93, 'calibrate': 6, 'permit': 82, 'unwind': 14, 'consist': 46, 'jitter': 1, 'flick': 2, 'forecast': 5, 'summarise': 12, 'halt': 66, 'whip': 15, 'track': 31, 'confuse': 39, 'COLOUR': 1, 'reproduce': 34, 'download': 1, 'internationalise': 2, 'disable': 6, 'amplify': 6, 'judge': 123, 'zoom': 3, 'relocate': 4, 'streamline': 5, 'toggle': 1, 'equal': 10, 'invent': 27, 'modulate': 2, 'multiply': 9, 'telephone': 22, 'reset': 3, 'input': 2, 'round': 25, 'modify': 47, 'scale': 9, 'witness': 34, 'capitalise': 29, 'access': 9, 'host': 31, 'standardise': 4, 'project': 34, 'steer': 41, 'quantify': 12, 'overtake': 29, 'synthesise': 3, 'conduct': 102, 'dope': 2, 'adjust': 86, 'proliferate': 7, 'screen': 13, 'pollute': 10, 'spiral': 4, 'preclude': 22, 'pump': 24, 'endure': 46, 'span': 8, 'await': 33, 'term': 6, 'line': 22, 'revert': 26, 'traverse': 3, 'pioneer': 9, 'interrupt': 22, 'square': 17, 'rid': 37, 'scrutinise': 12, 'contribute': 120, 'tune': 14, 'ascertain': 27, 'elapse': 8, 'risk': 105, 'fragment': 2, 'unite': 54, 'differ': 45, 'import': 28, 'plunge': 25, 'invoke': 21, 'content': 5, 'elaborate': 12, 'undermine': 73, 'minimize': 16, 'refine': 6, 'breakingpoint': 1, 'deconstruct': 4, 'teach': 175, 'piss': 6, 'anglophone': 1, 'substantiate': 15, 'insist': 99, 'betray': 24, 'reference': 1, 'uncover': 16, 'retreat': 23, 'avert': 30, 'employ': 63, 'transcend': 9, 'conceal': 60, 'enact': 4, 'blur': 8, 'loom': 8, 'intersect': 2, 'reverse': 74, 'warm': 43, 'marginalize': 3, 'typify': 2, 'favour': 57, 'defuse': 20, 'familiarize': 3, 'systematize': 3, 'reject': 76, 'abolish': 63, 'discern': 21, 'advocate': 25, 'disagree': 29, 'extricate': 9, 'suppress': 50, 'repudiate': 14, 'originate': 8, 'disown': 7, 'discourage': 49, 'articulate': 21, 'cultivate': 29, 'scorn': 5, 'admire': 53, 'propound': 3, 'realign': 5, 'characterize': 12, 'pretend': 99, 'analyse': 46, 'elicit': 15, 'provoke': 54, 'converge': 4, 'honour': 44, 'anger': 9, 'emphasize': 42, 'afflict': 2, 'imitate': 27, 'remedy': 27, 'organize': 39, 'approximate': 6, 'dismember': 5, 'overturn': 23, 'demystify': 4, 'substitute': 30, 'shatter': 6, 'battle': 21, 'deflect': 29, 'remake': 4, 'weaken': 38, 'grasp': 53, 'pronounce': 27, 'fake': 4, 'govern': 55, 'advance': 59, 're-establish': 20, 'signal': 30, 'doubt': 55, 'conceive': 36, 'bloom': 7, 'surpass': 8, 'bypass': 12, 'shelter': 16, 'vindicate': 11, 'waste': 65, 'resent': 14, 'abstract': 8, 'seethe': 2, 'scan': 11, 'back': 65, 'snarl': 3, 'duck': 13, 'counterfeit': 3, 're-open': 11, 'kiss': 49, 'enrol': 3, 'commend': 14, 'civilize': 2, 'exempt': 5, 'lapse': 11, 'rebut': 4, 'assail': 1, 'confine': 18, 'contend': 30, 'sight': 5, 'proclaim': 19, 'confound': 11, 'subjugate': 3, 'accrue': 6, 'retract': 5, 'champion': 7, 'excuse': 29, 'respect': 52, 'squirm': 4, 'compel': 28, 'bounce': 21, 'browbeat': 2, 'outface': 1, 'swallow': 39, 'dislike': 15, 'guard': 43, 'bore': 9, 'amuse': 16, 'monopolize': 2, 'suspect': 33, 'Write': 1, 'beware': 17, 'placate': 15, 'endorse': 42, 'reiterate': 10, 'venerate': 1, 'surprise': 39, 'deliberate': 3, 'renew': 49, 'profess': 8, 'stomach': 8, 'conquer': 24, 'irrupt': 1, 'detect': 65, 'cite': 23, 'attain': 37, 'promulgate': 1, 'deserve': 47, 'deplore': 5, 'idealize': 2, 'broach': 3, 'diagnose': 15, 'flee': 40, 'expatriate': 1, 'date': 12, 'rack': 5, 'misconceive': 2, 'polemicize': 1, 'lurk': 12, 'excerpt': 1, 'fudge': 4, 'cheat': 16, 'disconcert': 4, 'procreate': 2, 'duplicate': 4, 'hammer': 21, 'redress': 25, 'retort': 4, 'reprint': 2, 'craft': 4, 'dine': 12, 'grope': 5, 'shop': 34, 'choke': 11, 'piece': 7, 'stodge': 1, 'fasten': 5, 'reclaim': 24, 'breach': 11, 'evolve': 35, 'dissent': 8, 'cool': 55, 'enfeeble': 1, 'grapple': 10, 'enrich': 12, 'impoverish': 3, 'deregulate': 6, 'withdraw': 118, 'disrupt': 31, 'slash': 15, 'resell': 4, 'undercut': 13, 'average': 16, 'rehabilitate': 11, 'excite': 20, 'swing': 54, 'reconcile': 51, 'target': 24, 'restate': 4, 'disappear': 79, 'merge': 44, 'restructure': 25, 'dovetail': 4, 'tumble': 12, 'mount': 64, 'ward': 19, 'rule': 120, 'quarrel': 11, 'rush': 60, 'wrench': 5, 'race': 41, 'cash': 34, 'slap': 13, 'entice': 19, 'scoop': 14, 'promise': 45, 'garner': 6, 'haunt': 30, 'punish': 50, 'recycle': 13, 'clobber': 3, 'frame': 15, 'omit': 10, 'blast': 14, 'erase': 15, 'memorise': 2, 'exorcise': 7, 'outlive': 4, 'retrieve': 26, 'resume': 58, 'reckon': 31, 'eschew': 3, 'tread': 27, 'preside': 17, 'sabotage': 13, 'waive': 6, 'address': 110, 'scrape': 17, 'recreate': 23, 'seal': 26, 'formalise': 3, 'oust': 28, 'officiate': 4, 'contest': 33, 'cram': 6, 'cheer': 48, 'march': 29, 'ride': 119, 'trifle': 1, 'triumph': 9, 'dismantle': 26, 'trumpet': 4, 'storm': 9, 'bluff': 2, 'revive': 68, 'sail': 31, 'boycott': 23, 'administer': 34, 'rank': 21, 'weed': 12, 'fetter': 2, 'grant': 55, 'fabricate': 5, 'erode': 12, 'foot': 16, 'sue': 66, 'devolve': 8, 'campaign': 30, 'hijack': 6, 'boil': 26, 'damn': 5, 'reaffirm': 5, 'iron': 11, 'assuage': 15, 'implement': 81, 'override': 19, 'antagonise': 6, 'smash': 21, 'ram': 5, 'embarrass': 29, 'pave': 21, 'stumble': 9, 'patch': 9, 'empower': 3, 'amend': 28, 'rally': 35, 'defeat': 79, 'bastardise': 1, 'WATCH': 3, 'GO': 5, 'pester': 3, 'manufacture': 39, 'bankroll': 1, 'commute': 8, 'hobble': 2, 'mate': 9, 'trade': 75, 'wheedle': 3, 'immunise': 12, 'dig': 68, 'scratch': 26, 'snip': 4, 'stipulate': 4, 'exacerbate': 8, 'hook': 12, 'sober': 2, 'rain': 28, 'riot': 1, 'succumb': 25, 'further': 2, 'snatch': 25, 'clinch': 25, 'scatter': 8, 'claw': 11, 'hasten': 17, 'paper': 2, 'oblige': 27, 'peak': 18, 'paraphrase': 3, 'testify': 31, 'metamorphose': 2, 'gird': 2, 'script': 1, 'waddle': 3, 'deflate': 2, 'repay': 48, 'stud': 10, 'lodge': 11, 'emigrate': 21, 'yield': 51, 'toy': 2, 'blow': 63, 'delight': 21, 'vibrate': 2, 'squeeze': 61, 'tuck': 6, 'brief': 14, 'endeavour': 15, 'sack': 18, 'weather': 14, 'recoup': 22, 'pitch': 22, 'board': 17, 'wrest': 10, 'alert': 17, 'correspond': 26, 'market': 55, 'execute': 12, 'heed': 17, 'sacrifice': 27, 'chair': 18, 'vilify': 1, 'humiliate': 8, 'appease': 22, 'insult': 9, 'ridicule': 8, 'trouble': 29, 'dispel': 25, 'crackpot': 1, 'classify': 32, 'underestimate': 24, 'patronise': 6, 'reconsider': 45, 'burst': 41, 'demolish': 16, 'implant': 3, 'fool': 17, 'optimise': 5, 'smear': 3, 'bankrupt': 5, 'award': 24, 'repeal': 8, 'legislate': 30, 'dispose': 51, 'burn': 57, 'dump': 17, 'incinerate': 2, 'allot': 2, 'Eat': 4, 'crunch': 1, 'refill': 7, 'signify': 31, 'rake': 6, 'confide': 10, 'materialise': 36, 'condemn': 38, 'jeopardise': 19, 'hedge': 11, 'rein': 8, 'shelve': 7, 'scrap': 27, 'inject': 21, 'militate': 2, 'forbid': 14, 'modernise': 27, 'institute': 6, 'confer': 23, 'fax': 4, 'wash': 71, 'befall': 8, 'camouflage': 9, 'crumble': 33, 'diminish': 54, 'puncture': 7, 'constrict': 3, 'repress': 9, 'assure': 41, 'espouse': 7, 'annex': 4, 'urge': 27, 'shell': 5, 'escalate': 17, 'ratify': 12, 'block': 98, 'violate': 4, 'rout': 6, 'encircle': 3, 'regulate': 43, 'quash': 6, 'self-destruct': 2, 'curse': 5, 'rebuke': 5, 'extradite': 17, 'draft': 18, 'allocate': 20, 'scramble': 10, 'scare': 21, 'finalise': 15, 'backtrack': 4, 'intimidate': 14, 'lure': 31, 'progess': 1, 'research': 38, 'ordain': 2, 'befriend': 3, 'heal': 26, 'reactivate': 2, 'wrap': 12, 'detoxify': 1, 'undergo': 34, 'dissuade': 13, 'counsel': 9, 'ruin': 38, 'value': 16, 'defray': 2, 'commercialise': 3, 'lobby': 17, 'personify': 3, 'consign': 4, 'delude': 4, 'tip': 23, 'bequeath': 6, 'home': 1, 'devastate': 2, 'unlearn': 2, 'renege': 5, 'gloat': 5, 'Protect': 2, 'poison': 10, 'threaten': 65, 'hatch': 5, 'disregard': 10, 'televise': 2, 'liaise': 5, 'Live': 2, 'tone': 14, 'transplant': 9, 'recompense': 2, 'verify': 7, 'disprove': 10, 'undervalue': 4, 'annul': 2, 'endanger': 31, 'quiz': 1, 'embellish': 4, 'gross': 9, 'partner': 10, 'appoint': 62, 'resign': 131, 'conserve': 30, 'alternate': 7, 'coach': 2, 'canvass': 7, 'by-pass': 5, 'stave': 18, 'discredit': 22, 'polarise': 3, 'curve': 1, 'pamper': 2, 'cosset': 3, 'expend': 6, 'redesign': 5, 'fashion': 17, 'trick': 9, 'swear': 20, 'faint': 8, 'Fix': 1, 'tour': 33, 'mastermind': 4, 'shy': 11, 'dish': 5, 'pacify': 6, 'minimise': 45, 'depress': 15, 'bow': 15, 'tap': 26, 'languish': 4, 'reorganise': 16, 'silence': 21, 'crawl': 19, 'commence': 13, 'equip': 16, 'dross': 1, 'pity': 6, 'dictate': 29, 'deduce': 17, 'throttle': 2, 'whistle': 7, 'bar': 21, 'overthrow': 35, 'censure': 5, 'ruminate': 1, 'outflank': 3, 'reconvene': 3, 'renegotiate': 10, 'subdue': 15, 'paralyse': 6, 'accede': 6, 'forge': 25, 'hoist': 6, 'graduate': 13, 're-make': 1, 'cordon': 1, 'orchestrate': 5, 'destabilise': 16, 'swim': 67, 'tag': 2, 'coerce': 1, 'fire': 39, 'revoke': 10, 'wage': 15, 'scavenge': 5, 'model': 7, 'purify': 11, 'persecute': 3, 'moderate': 8, 'restart': 11, 'loan': 1, 'consitute': 1, 'outweigh': 10, 'perceive': 42, 'judder': 2, 'rival': 36, 'deceive': 26, 'spit': 6, 'Labour': 2, 'tax': 40, 'relinquish': 28, 'prosecute': 28, 'encroach': 5, 'spill': 15, 'arbitrate': 2, 'reinterpret': 5, 'subpoena': 2, 'flout': 4, 'append': 2, 'curb': 78, 'labour': 9, 'overwhelm': 10, 'jest': 1, 'wander': 33, 'rehearse': 13, 'transmit': 14, 'educate': 34, 'inculcate': 5, 'smack': 7, 'patrol': 9, 'exhibit': 20, 'fantasize': 1, 'jab': 1, 'captain': 4, 'cure': 52, 'envy': 17, 'scream': 34, 'bolster': 24, 'resurrect': 13, 'cruise': 7, 'disarm': 9, 'dispatch': 3, 'coast': 3, 'outlaw': 15, 'stamp': 14, 'flicker': 7, 'picket': 4, 'shadow': 6, 'agitate': 1, 'impede': 7, 'dramatise': 5, 'overstretch': 2, 'upstage': 7, 'slam': 8, 'fuel': 11, 'segment': 1, 'fret': 7, 'smother': 8, 'detail': 5, 'equalise': 10, 'shore': 20, 'underscore': 3, 'redouble': 6, 'audit': 1, 'stump': 5, 'stare': 40, 'erupt': 11, 'nosedive': 2, 'salvage': 22, 'nip': 11, 'ensue': 10, 'entrench': 8, 'tan': 6, 'arrest': 36, 'criminalise': 3, 'terrorise': 4, 'topple': 18, 'unseat': 7, 'symbolise': 16, 'lick': 9, 'culminate': 5, 'psychoanalyse': 1, 'package': 4, 'thunder': 3, 'tally': 1, 'regroup': 5, 'sharpen': 13, 'tick': 10, 'deduct': 11, 'plaster': 3, 'bus': 2, 'divert': 28, 'lean': 26, 'ostracise': 1, 'subvert': 12, 'assassinate': 12, 'disapprove': 5, 'vent': 4, 'plead': 24, 'found': 14, 're-arrange': 1, 'unload': 16, 'dial': 5, 're-style': 1, 'chat': 25, 'revitalise': 4, 'petition': 7, 'bulldoze': 1, 'discard': 10, 'discriminate': 18, 'warrant': 28, 'harass': 7, 'filter': 12, 'distance': 25, 'repatriate': 8, 'irritate': 10, 'ameliorate': 7, 'gratify': 4, 'tangle': 5, 'dent': 9, 'joke': 5, 'fry': 3, 'Get': 7, 'obey': 42, 'clash': 10, 'pit': 6, 'vacate': 2, 'prop': 24, 'grab': 33, 'downgrade': 4, 'post': 2, 'inflict': 22, 'wound': 6, 'sprint': 4, 'fulfil': 91, 'torment': 11, 'quibble': 5, 'evade': 22, 'waltz': 1, 'reverberate': 3, 'fulfill': 5, 'jostle': 3, 'attribute': 19, 'weight': 1, 'sway': 13, 'phrase': 4, 'unlock': 11, 'disentangle': 10, 'bank': 11, 'expire': 10, 'vie': 4, 'convene': 13, 'liberalise': 13, 'endebt': 1, 'defer': 9, 'discount': 13, 'acquiesce': 7, 'gamble': 10, 'rock': 26, 'tether': 1, 'genuflect': 1, 'accuse': 25, 'plunder': 2, 'squabble': 2, 'recant': 1, 'hesitate': 35, 'label': 13, 'bomb': 13, 'masquerade': 1, 'pressurise': 7, 'default': 2, 'buttress': 3, 'reshape': 13, 'disband': 12, 'sigh': 4, 'puff': 4, 'dampen': 10, 'query': 12, 'consent': 20, 'render': 37, 'incur': 19, 'fufill': 1, 'backfire': 8, 'bang': 9, 'relish': 26, 'wipe': 62, 'mislead': 10, 'motivate': 19, 'broadcast': 18, 're-apply': 1, 'wilt': 7, 'tame': 7, 'unmake': 3, 'sap': 4, 'stultify': 2, 'nullify': 3, 'resurface': 3, 'outline': 21, 'forfeit': 10, 'replay': 6, 'scar': 3, 'field': 30, 'sanction': 17, 'flinch': 6, 'pepper': 1, 'begrudge': 6, 'recapture': 16, 'annoy': 17, 'polish': 12, 'shame': 11, 'reassert': 10, 'incline': 2, 'weep': 23, 'inflame': 7, 'douse': 3, 'blurt': 1, 'tinker': 8, 'despise': 13, 'DENY': 1, 'interpose': 4, 'enchant': 2, 'picture': 16, 'star': 12, 'inveigle': 1, 'niggle': 1, 'amaze': 5, 'fulminate': 1, 'refute': 14, 'fend': 23, 'shrug': 14, 'intensify': 31, 'revalue': 4, 'underwrite': 10, 'trim': 19, 'infiltrate': 13, 'empty': 20, 'dip': 16, 'extinguish': 12, 'burble': 1, 'outpace': 3, 'amble': 2, 'lope': 1, 'expunge': 4, 're-emerge': 7, 'dislodge': 17, 'crave': 6, 'flatter': 10, 'contrive': 4, 'tussle': 1, 'affirm': 13, 'mistake': 15, 'fatten': 4, 'roam': 13, 'bulgur': 1, 'galvanise': 7, 'countenance': 17, 'digress': 3, 'quench': 9, 'blunt': 4, 'refresh': 9, 'lace': 2, 'cushion': 11, 'voyage': 2, 'fancy': 29, 'bribe': 13, 'plug': 18, 'apprehend': 7, 'mull': 3, 'vault': 4, 're-read': 4, 'allay': 22, 'cripple': 9, 'cough': 11, 'hamper': 7, 'devour': 8, 'over-fertilise': 1, 'prostitute': 5, 'mobilise': 13, 'inquire': 8, 'cop': 3, 'snag': 2, 'fluctuate': 7, 'budget': 8, 'precipitate': 5, 'outperform': 3, 'indemnify': 1, 'auction': 10, 'outwit': 6, 'parade': 10, 'Care': 3, 'prattle': 3, 'supersede': 5, 'tow': 6, 'relegate': 2, 'shoehorn': 1, 'bat': 22, 'utilise': 4, 'embroider': 3, 'deputise': 7, 'escort': 13, 'net': 8, 'sever': 8, 'shun': 5, 'forgo': 13, 'skip': 10, 'knit': 12, 'pad': 3, 'flourish': 43, 'curl': 10, 'wring': 8, 'supervise': 31, 'slaughter': 17, 'blossom': 7, 'popularise': 6, 'republish': 1, 'blush': 5, 'Tell': 2, 'book': 31, 'Save': 6, 'whizz': 3, 'gaze': 13, 'disgorge': 3, 'Die': 4, 'See': 1, 'revise': 19, 'spark': 15, 'dress': 64, 'outstrip': 5, 'cap': 10, 'oversee': 34, 'rig': 4, 'dispute': 18, 'weld': 6, 'mop': 12, 'temper': 10, 'implode': 3, 'rove': 2, 'tack': 4, 'launder': 9, 'snoop': 5, 'debase': 3, 'jail': 30, 'pardon': 9, 'smuggle': 9, 'cede': 5, 'refund': 6, 'suffice': 20, 'table': 5, 'forestall': 12, 'disperse': 19, 'assault': 6, 'ship': 6, 'sidestep': 4, 'liquidate': 8, 'apportion': 5, 'gossip': 6, 'snow': 9, 'treble': 5, 'swap': 38, 'box': 7, 'frequent': 6, 'synchronise': 3, 'humble': 3, 'harvest': 10, 'foul': 4, 'hinder': 11, 'ripen': 13, 'clone': 2, 're-write': 3, 'swivel': 2, 'understudy': 1, 'sour': 3, 'supercede': 1, 'hearten': 1, 'wince': 3, 'Toshack': 1, \"attack'\": 1, 'scuttle': 2, 'plummet': 2, 'wed': 2, 'plough': 10, 'pelt': 2, 'forsake': 4, 'elevate': 8, 'glean': 5, 'underpin': 16, 'licence': 2, 'shower': 6, 'censor': 4, 'err': 6, 'canonise': 1, 'engender': 5, 'prejudice': 8, 'cart': 3, 'defect': 14, 'liftoff': 1, 'hurtle': 3, 'redraw': 4, 'snare': 1, 'faff': 1, 'presage': 2, 'converse': 7, 'vomit': 4, 'abort': 8, 'Find': 1, 'nurture': 12, 'regress': 5, 'map': 4, 'cleanse': 7, 'hyperventilate': 2, 'sob': 5, 'restock': 3, 'farm': 13, 'surface': 4, 'differentiate': 24, 'delegate': 14, 'sub-contract': 1, 'construe': 5, 'spur': 11, 'gag': 3, 'spar': 2, 'preview': 2, 'allege': 9, 'flare': 3, 'narrow': 7, 'scheme': 3, 'sympathise': 13, 'bebop': 1, 'glow': 7, 'blink': 6, 'dwell': 22, 'nuzzle': 1, 'rebel': 9, 'desert': 18, 'slice': 8, 'grip': 18, 'auctioneer': 1, 'team': 15, 'toe': 7, 'repulse': 2, 'jack': 5, 'consummate': 2, 'authenticate': 2, 'muddle': 6, 'roost': 8, 'praise': 18, 'squeal': 2, 'visualise': 15, 'assign': 11, 'retaliate': 12, 'convict': 15, 'blackmail': 6, 'unleash': 14, 'rectify': 12, 're-litigate': 3, 'adjudicate': 4, 'overhaul': 10, 'better': 4, 'hack': 8, 'video': 4, 'alienate': 14, 'deport': 9, 'besmirch': 1, 'blacken': 2, 'license': 13, 'keel': 2, 'stagnate': 4, 'gel': 5, 'mutter': 9, 'total': 18, 'rubbish': 2, 'traipse': 3, 'slit': 1, 'hurry': 34, 'neccessitate': 1, 'tender': 12, 'emit': 5, 'extol': 4, 'delete': 2, 'parry': 5, 'slot': 2, 'obstruct': 8, 'ransom': 9, 'surge': 7, 'mature': 21, 'disinherit': 1, 're-entrap': 1, 'bind': 35, 'chime': 3, 'stylise': 1, 'belittle': 4, 'gang': 3, 'rend': 1, 'excel': 9, \"o'ertake\": 1, 'sprinkle': 5, 'chance': 3, 'lighten': 13, 'widen': 34, 'tarnish': 3, 'accomodate': 1, 'ascribe': 5, 'shape': 36, 'eject': 9, 'tremble': 11, 're-enter': 13, 'vow': 1, 'power': 6, 'grey': 3, 'supplant': 2, 'chatter': 7, 'bubble': 3, 'recommit': 1, 'enumerate': 3, 'reminisce': 2, 'purport': 2, 'notify': 15, 'exaggerate': 20, 'distract': 20, 'reappraise': 2, 're-cycle': 2, 'cross-subsidise': 1, 'covet': 7, 'sag': 8, 'attest': 6, 'spite': 8, 'degenerate': 4, 'reselect': 1, 're-define': 4, 'racecourse': 1, 'hump': 3, 'tease': 16, 'nag': 7, 'muster': 30, 'graft': 2, 'pounce': 16, 'beneift': 1, 'dodge': 10, 'refinance': 7, 're-inforce': 1, 'ponder': 22, 'circumnavigate': 1, 'Pen': 1, 'preen': 1, 'decry': 4, 'air': 7, 'de-Judaise': 1, 'mystify': 2, 'dissect': 5, 'laud': 3, 'bet': 23, 'jolly': 2, 'discontinue': 6, 'adorn': 6, 'shove': 17, 'accost': 1, 'overestimate': 4, 'cohabit': 2, 'echo': 19, 'whittle': 2, 'clap': 4, 're-echo': 1, 'lengthen': 10, 'request': 23, 'rebutt': 1, 'jog': 6, 'bleed': 8, 'yoke': 1, 'Stay': 1, 'jettison': 7, 'drift': 32, 'avenge': 7, 'plot': 14, 'nod': 13, 'emasculate': 1, 'climax': 1, 'groan': 4, 'vanish': 19, 'embody': 11, 'cherish': 11, 'booze': 1, 'hove': 1, 'mail': 3, 'punctuate': 3, 'satirise': 3, 'enunciate': 1, 'intone': 1, 'fumble': 4, 'drown': 31, 'inhale': 5, 'pool': 4, \"manage'\": 1, 'reserve': 15, 'politicise': 2, 'democratise': 1, 'side-step': 2, 'allude': 3, 'lessen': 17, 'curtail': 12, 'site': 10, 'out-point': 1, 'flood': 14, 'prise': 11, 'deride': 2, 'Want': 2, 'reason': 28, 'shuffle': 9, 'incubate': 2, 'flutter': 4, 'screech': 2, 'bog': 1, 'bound': 1, 'displace': 13, 'readmit': 2, 'impute': 3, 'copy': 34, 'fascinate': 6, 'nudge': 11, 'excise': 1, 'suffocate': 6, 'reassume': 1, 'transmute': 2, 'adjourn': 2, 'mend': 25, 'legitimise': 3, 'kidnap': 5, 'ignite': 7, 'shrivel': 8, 'blaze': 3, 'vouch': 12, 'worship': 21, 'travail': 1, 'fish': 39, 'garden': 2, 'near': 12, 'unveil': 8, 'dive': 17, 'soldier': 3, 'reformulate': 1, 'halve': 16, 'legalise': 3, 'outrun': 6, 'rape': 10, 'poke': 8, 'orang': 1, 'UCB': 1, 'rescind': 2, 'limp': 9, 'unnerve': 4, 'churn': 5, 'click': 6, 'puzzle': 4, 'stiffen': 5, 'sneak': 17, 'deplete': 6, 'whinge': 3, 'interview': 20, 'reek': 1, 'redirect': 6, 'retouch': 2, 'merit': 11, 'smell': 53, 'charm': 8, 'disqualify': 3, 'mollify': 5, 'gulp': 1, 'slay': 10, 'loathe': 6, 'airpass': 1, 'scupper': 8, 'salve': 1, 'holiday': 2, 'underplay': 3, 'manifest': 12, 'skive': 1, 'abstain': 7, 'normalize': 2, 'neutralize': 4, 'immerse': 8, 'creak': 5, 'migraine': 1, 'sanger': 1, 'spice': 3, 'gawp': 2, 'document': 10, 'enliven': 11, 'criticize': 16, 'professionalize': 1, 'endow': 5, 'fuck': 14, 'pinpoint': 14, 'coexist': 5, 'urinate': 3, 'avail': 5, 'outward-bound': 1, 'apologize': 10, 'comprise': 13, 'detain': 6, 'predominate': 5, 'predispose': 4, 'diverge': 5, 'distribute': 35, 'slake': 1, 'contract': 35, 'levy': 4, 're-formulate': 1, 'position': 10, 'correlate': 9, 'make/supply': 1, 'evacuate': 10, 'splatter': 4, 'splash': 14, 'enquire': 21, 'preach': 44, 'retrace': 5, 'behold': 11, 'bellow': 5, 'scrounge': 3, 'undress': 6, 'salute': 5, 'trudge': 2, 'pipe': 5, 'Vote': 2, 'bias': 2, 'Quantify': 1, 'publicize': 5, 'rate': 10, 'categorize': 3, 'mobilize': 7, 'displease': 5, 'invert': 5, 'enslave': 5, 'persist': 28, 'trivialize': 2, 'phone': 36, 'over-simplify': 2, 'ratiocinate': 1, 'bestir': 2, 'suck': 17, 'billet': 1, 'collate': 2, 'rejoice': 14, 'decorate': 14, 'instil': 10, 'wield': 9, 'assimilate': 16, 'lump': 7, 'feather': 1, 'fleece': 3, 'collaborate': 21, 'baptize': 6, 'chuck': 11, 'caricature': 3, 'spy': 3, 'loll': 1, 'counteract': 16, 'reside': 5, 'delve': 9, 'barter': 1, 'sow': 13, 'brook': 7, 'over-concentrate': 1, 'starve': 17, 'khozraschet': 4, 'muse': 2, 'overreact': 3, 'cooperate': 9, 'snowball': 6, 'trespass': 2, 'greenspace': 1, 'Go': 6, 'cycle': 4, 'steepen': 1, 'ascend': 9, 'pluck': 7, 'pilot': 6, 'beach': 1, 'hibernate': 3, 'dash': 6, 'rattle': 6, 'windsurf': 2, 'familiarise': 8, 'unclog': 1, 're-charge': 2, 'uprate': 2, 'stitch': 5, 'bunch': 6, 'ventilate': 7, 'condense': 2, 'clog': 4, 'revamp': 5, 'excavate': 3, 'carve': 16, 'decay': 12, 'recast': 1, 'authorize': 2, 'equalize': 1, 'eke': 2, 'rear': 15, 'lurch': 5, 'redefine': 9, 'beguile': 3, 'disavow': 3, 'spearhead': 3, 'denationalize': 1, 'remodel': 4, 'Rejoice': 1, 'dim': 5, 'plague': 9, 'renationalize': 1, 'exorcize': 1, 'decentralize': 1, 'negate': 6, 'destabilize': 2, 'mediate': 12, 'galvanize': 2, 'infuse': 5, 'ebb': 4, \"'The\": 1, 'covenant': 3, 'annihilate': 5, 'dither': 1, 'cup': 1, 'AVM': 1, 'appreaciate': 1, 'rekindle': 5, 'bale': 3, 'dismount': 8, 're-visit': 2, 'revisit': 3, 'man': 7, 'LIKE': 2, 'HELP': 12, 'neet': 1, 'harangue': 2, 'recite': 8, 'meditate': 7, 'infuriate': 2, 'mug': 1, 'submerge': 5, 'glorify': 2, 'reorganize': 5, 'overpower': 7, 'sin': 6, 'unchurch': 2, 'black': 1, 'dedicate': 7, 'type': 7, 'grumble': 8, 'discipline': 3, 'impersonate': 4, 'agonize': 5, 'trample': 5, 'shirk': 5, 'aspire': 13, 'reconstruct': 26, 'economise': 6, 'procure': 6, 'disorganise': 1, 'squat': 5, 'rationalise': 11, 'chop': 9, 'animadvert': 1, 'ration': 5, 'plump': 10, 'soil': 11, 'revolve': 12, 'court': 6, 'betoken': 3, 'desire': 17, 'depose': 3, 'fare': 16, 'overlap': 5, 'reciprocate': 5, 'hypothecate': 1, 'replant': 5, 'atomise': 1, 'subsist': 2, 'tamper': 5, 'smirk': 2, 'Know': 5, 'flock': 2, 'maximize': 17, 'Delay': 1, 'Use': 2, 'unearth': 2, 'outsell': 3, 'sweeten': 8, 'vet': 4, 'jam': 3, 'concoct': 4, 'dwindle': 4, 'sift': 4, 'structure': 3, 'pander': 2, 'GET': 10, 'copromote': 1, 'OPEN': 1, 'deviate': 7, 'jeopardize': 4, 'superannuate': 1, 'posit': 3, 'de-interpret': 1, 'reincarnate': 1, 'exemplify': 3, 'permeate': 6, 'juxtapose': 2, 'revolt': 4, 'patronize': 1, 'animate': 5, 'brood': 3, 'precede': 5, 'rationalize': 7, 'hint': 8, 'distil': 6, 'revitalize': 2, 'preordain': 1, 'reinvigorate': 1, 're-enact': 2, 'repopulate': 1, 'reascend': 2, 'minister': 3, \"l'âme\": 1, 'meddle': 7, 'reintegrate': 2, 'savage': 6, 'over-engage': 1, 'preface': 3, 'recross': 2, 'insure': 9, 'stutter': 1, 'machine': 1, 'overstimulate': 1, 'wriggle': 7, 'spawn': 5, 'strangle': 8, 'co-exist': 6, 'DIE': 4, 'bundle': 1, 'straighten': 11, 'pocket': 3, 'raid': 8, \"chuck'em\": 1, 'barricade': 1, 'blanch': 3, 'inflate': 3, 'off-load': 4, 'con': 6, 'engulf': 3, 'quieten': 3, 'seduce': 8, 'heckle': 2, 'unscrew': 6, 'subside': 5, 'blind': 9, 'designate': 9, 'historicize': 1, 'privilege': 3, 'incite': 2, 'pluralize': 2, 'generalize': 3, 'mirror': 6, 'demonize': 1, 'masterbate': 1, 'sketch': 8, 'caress': 3, 'tinder': 1, 'transgress': 4, 'dis-cover': 1, 'crossbreed': 1, 'adulterate': 1, 'reproach': 6, 'epitomize': 2, 'preempt': 1, 'thrash': 8, 'reconstitute': 2, 'presuppose': 5, 'border': 2, \"heav'n\": 1, 'essentiall': 1, 'read/see': 1, 'implicate': 2, 'kill/': 1, 'quoit': 1, 'possess/express': 1, 'recede': 9, 'artifice': 1, 'naturalize': 2, 'pervert': 6, 'instantiate': 1, \"serve'\": 1, 'problematize': 1, 'baffle': 4, 'disarticulate': 1, 'eroticize': 1, 'sentimentalize': 2, 'fling': 7, 'journey': 5, 'redeem': 16, 'reinscribe': 1, 're-engage': 2, 'down': 3, 'sling': 3, 'goof': 1, 'Rock': 2, 'crash': 24, 'beaver': 1, 'twig': 1, 'nick': 18, 'lob': 3, 'Feel': 2, 'fence': 3, 'leg': 2, 'ditch': 7, 'twiddle': 4, 'Kill': 3, 'mime': 1, 'mess': 9, 'soundproof': 1, 'whack': 1, 'swipe': 1, 'bunk': 1, 'Look': 2, 'hunt': 30, 'usher': 5, 'undo': 20, 'liberalize': 3, 'stabilize': 6, 'toughen': 5, 'downplay': 1, 'personalize': 1, 'conciliate': 3, 'revel': 5, 'empathize': 2, 'reshuffle': 5, 'grade': 4, 'privatize': 2, 'sew': 6, 'libel': 1, 'prune': 4, 'reunite': 5, 'splinter': 3, 'survey': 13, 'standardize': 6, 'nationalize': 4, 'immobilize': 1, 'badger': 5, 'harmonize': 2, 'blend': 17, 'invalidate': 7, 'veer': 6, 'disorganize': 1, 'obsess': 3, 'coordinate': 6, 're-order': 2, 'long': 21, 'remarry': 4, 'divorce': 14, 'cavil': 1, 'perjure': 1, 'sympathize': 4, 'cleave': 4, 'hush': 2, 'yell': 8, 'babysit': 2, 'chaperone': 1, 'spray': 14, 'see–': 1, 'tinkle': 1, 'glimmer': 1, 'ooze': 3, 're-cast': 1, 'crumple': 3, 'menstruate': 1, 'scent': 3, 'sulk': 4, 'kneel': 13, 'souse': 1, 'ache': 10, 'rat': 1, 'grind': 13, 'mother': 1, 'lag': 5, 'belch': 1, 'right': 3, 'untangle': 3, 'buck': 3, 'leap-frog': 2, 'discharge': 22, 'automate': 2, 'pledge': 5, 'overstay': 1, 'imbue': 1, 'bag': 2, 'diversify': 19, 'engineer': 10, 'will': 3, 'optimize': 1, 'modernize': 10, 'reconfirm': 1, 'extort': 3, 'centralize': 2, 'crop': 10, 'graze': 7, 'manure': 1, 'entrepôt': 1, 'redistribute': 5, 'industrialize': 2, 'recount': 3, 'smoulder': 2, 'subtract': 4, 'arselick': 1, 'tidy': 13, 'nurse': 8, 'water': 12, 'harry': 4, 'milk': 9, 'absent': 3, 'knead': 1, 'shave': 11, 'comb': 4, 'dull': 3, 'cringe': 4, 'brace': 7, 'housekeep': 2, 'bake': 13, 'MEET': 2, 'soothe': 17, 'tot': 1, 'dangle': 4, 'grate': 5, 'scald': 2, 'pulp': 1, 'mow': 5, 'TACKLE': 1, 'plumb': 2, 'loosefeed': 1, 'hover': 6, 'bait': 5, 're-capture': 1, 'spook': 2, 'stroll': 14, 'worm': 1, 'lug': 6, 'rag': 1, 'lubricate': 3, 'wet': 5, 'varnish': 3, 'rewrite': 9, 'interact': 11, 'debunk': 2, 'vanquish': 1, 'co-vary': 1, 'flash': 6, 'ferry': 3, 'pace': 6, 'enthuse': 7, 'wade': 5, 'film': 8, 'heave': 10, 'WANT': 2, 'drain': 20, 'crease': 3, 'ATB': 2, 'pep': 2, 'rope': 1, 'freewheel': 1, 'circle': 10, 'paddle': 4, 'quicken': 8, 'beggar': 1, 'sledge': 1, 'stall': 4, 'ski': 13, 'pat': 11, 'anchor': 8, 'yelp': 1, 'huff': 2, 'clock': 4, 'shiver': 5, 'hurl': 8, 'extirpate': 2, 'christianize': 1, 'don': 8, 'valorize': 1, 'compound': 13, 'invade': 24, 'misread': 3, 'wither': 4, 'trivialise': 2, 'denature': 2, 'foreclose': 3, 'explicate': 1, 'disparage': 1, 'tyrannise': 2, 'categorise': 3, 'migrate': 6, 'bully': 8, 'slave': 1, 'oil': 3, 'ballot': 5, 'rebound': 2, 'grieve': 16, 'infringe': 2, 'deepen': 6, 'overhear': 4, 'up': 5, 'unretire': 1, 'lap': 2, 'hustle': 3, 'ruffle': 4, 'pre-qualify': 2, 'bottom': 1, 'gooseflesh': 1, 'boot': 3, 'actuate': 2, 'bode': 1, 'thread': 3, 'glass': 1, 'decimate': 2, 'space': 3, \"'phone\": 1, 'exhaust': 4, 'mid-bend': 1, 'oversteer': 1, 'motor': 2, 'depreciate': 1, 'pillory': 3, 'rethink': 11, 'stoke': 4, 'expostulate': 2, 'bargain': 9, 'slug': 5, 'popularize': 1, 'capitalize': 7, 'augment': 16, 'abbreviate': 1, 'chant': 5, 'alarm': 7, 'understate': 2, 'exonerate': 1, 'rough': 3, 'congregate': 7, 'Knit': 1, 'thicken': 2, 'probate': 1, 'deep-cleanse': 1, 'brighten': 13, 're-programme': 1, 'breastfeed': 1, 'contaminate': 4, 'rinse': 5, 'whiten': 1, 'mistreat': 1, 'wean': 5, 'GIVE': 4, 'audition': 6, 'evangelize': 1, 'surround': 7, 'pan': 2, 'moisten': 3, 'skimp': 4, 'neck': 2, 'wire': 6, 'DE-SEED': 1, 'flavour': 9, 'garnish': 9, 'overwhip': 1, 'curdle': 6, 'fold': 7, 'overcook': 3, 'pound': 3, 'grudge': 5, 'blue': 1, 're-cap': 1, 'fan': 8, 'enlighten': 6, 'stroke': 12, 'commandeer': 1, 'burden': 3, 'dismay': 2, 'word': 1, 'glance': 10, 'shudder': 2, 'unbend': 1, 'hitch': 3, 'bless': 14, 'fritter': 1, 'twitch': 8, 'thrill': 6, 'no': 122, 'sting': 7, 'hug': 7, 'flap': 3, 'stink': 2, 'cuddle': 8, 'sneeze': 2, 'breakfast': 4, 'spect': 2, 'bump': 11, 'squash': 5, 'puke': 3, 'orbit': 3, 'waken': 4, 'time': 4, 'nap': 2, 'dilate': 1, 'defecate': 2, 'conspire': 6, 'entrain': 1, 'recapitulate': 2, 'awaken': 4, 'intrude': 8, 'summarize': 6, 'referee': 3, 'thump': 4, 'reconfigure': 1, 'stow': 1, 'redeploy': 2, 'detonate': 3, 'rendezvous': 2, 'damp': 4, 'splice': 1, 'bond': 3, 'char': 1, 'infill': 1, 're-roof': 2, 're-site': 1, 'reuse': 1, 'subdivide': 2, 'smock': 1, 'moor': 1, 'fireproof': 1, 'ally': 2, 're-inject': 1, 'slumber': 1, 'whisper': 12, 'bug': 1, 'trundle': 5, 'tiptoe': 3, 'saunter': 4, 'transcribe': 3, 'taunt': 2, 'resit': 1, 'drudge': 1, 'fallow': 1, 'dread': 9, 'volunteer': 16, 'mythologize': 1, 'scrub': 6, 'single': 3, 'obtrude': 2, 'hone': 3, 'punt': 1, 'cither': 1, 'tramp': 3, 'sneer': 6, 'abound': 2, 'tunnel': 1, 'uproot': 1, 'KEEP': 3, 'RECREATE': 1, 'snuggle': 3, 'stake': 9, 'scorch': 1, 'PROTECT': 2, 'perpetuate': 5, 'SHOOT': 2, 'BLAME': 1, 'suckle': 2, 'Squash': 1, 'UNDERMINE': 1, 'glimpse': 9, 'gnaw': 3, 'jar': 1, 'crackle': 1, 'stint': 3, 'gild': 1, 'grace': 7, 'FASTEN': 1, 'regenerate': 8, 'bleach': 1, 'sterilise': 3, 'FEEL': 1, 'DECORATE': 1, 'gut': 2, 'MISS': 2, 'blank': 4, 'treasure': 4, 'SAVE': 1, 'RETIRE': 1, 'HEAD': 1, 'specialise': 10, 're-wash': 1, 'reboil': 1, 'slop': 1, 'over-chill': 1, 'brown': 1, 'defrost': 4, 'RAISE': 3, 'CAFOD': 1, 'irrigate': 2, 'HALT': 1, 're-direct': 1, 'LET': 3, 'pressure': 3, 'station': 1, 're-assess': 4, 'SATISFY': 1, 'STOP': 2, 'SAY': 4, 'BEAT': 1, 'FUND': 1, 'REBUILD': 1, 'ACT': 2, 'NEED': 2, 'giggle': 6, 'grin': 1, 'subject': 9, 'clasp': 3, 'flop': 3, 're-evaluate': 1, 'solicit': 5, 'fertilize': 3, 'pinch': 5, 'stalk': 5, 'recharge': 2, 'overrun': 6, 'pry': 4, 'overstep': 1, 'mince': 6, 'stack': 2, 'heartbeat': 1, 'scandalise': 1, 'outlast': 3, 'hould': 1, 'beam': 5, 'coalesce': 4, 'untackle': 1, 'scribble': 2, 'envelop': 3, 'wink': 2, 'relearn': 1, 'fossilise': 2, 'crowd': 4, 'FIT': 1, 'spotcheck': 1, 'network': 2, 'police': 5, 'skate': 5, 'concelebrate': 1, 'christen': 4, 'PRAY': 1, 'UNDERSTAND': 1, 're-edit': 2, 'idolize': 1, 'efface': 1, 'blot': 7, 'poach': 3, 'succour': 3, 'hail': 5, 'disallow': 3, 'concur': 2, 'cobble': 5, 'BIP': 1, 'toady': 1, 'mute': 2, 'atone': 6, 'complicit': 1, 'validate': 3, 're-energize': 1, 'tryst': 1, 'dazzle': 3, 'drip': 4, 'envelope': 1, 'diet': 14, 'pile': 5, 'binge': 5, 'riffle': 2, 'empathise': 1, 'limber': 1, 'slither': 4, 'zap': 1, 'massage': 5, 'instill': 3, 'scrunch': 1, 'pot': 5, 'whisk': 6, 'FREEPOST': 1, 'sport': 3, 'divulge': 6, 'SHOW': 1, 'STAR': 1, 'HOLIDAY': 1, 'kit': 1, 'moisturise': 1, 'epitomise': 4, 'axe': 2, 'persevere': 2, 'resuscitate': 3, 'procrastinate': 1, 'nationalise': 3, 'abate': 5, 'execrate': 1, 'dribble': 4, 'Serve': 1, 'finger': 1, 'aggravate': 6, 'rap': 2, 'deafen': 1, 'stereotype': 1, 'contravene': 4, 'defraud': 9, 'unpick': 2, 'entrap': 3, 'coax': 7, 'dwarf': 4, 'stiffle': 1, 'lunge': 1, 'constrain': 5, 'entrust': 5, 'season': 1, 'firebomb': 1, 'affiliate': 1, 'age': 6, 'bung': 1, 'unify': 6, 'daydream': 1, 're-educate': 1, 'junk': 1, 'contort': 1, 'haggle': 10, 'bide': 5, 'jive': 3, 'stuff': 10, 'magnify': 4, 'kerplonk': 1, 'recoil': 4, 'incriminate': 2, 'over-reach': 1, 'inoculate': 1, 'sqeeze': 1, 'thang': 1, 'computerise': 3, 'tape': 5, 'Marry': 3, 'Cry': 2, 'Hurt': 1, 'corroborate': 2, 'startle': 3, 'outdo': 5, 'Pay': 4, 'obviate': 7, 'overshadow': 4, 'hark': 3, 'tingle': 6, 'cramp': 2, 'Celebrate': 1, 'obfuscate': 1, 'partake': 5, 'invigorate': 2, 'offload': 4, 'fiddle': 8, 'nuance': 1, 'unsettle': 5, 're-transmit': 1, 'redevelop': 5, 're-erect': 1, 'penalise': 11, 'wind-up': 1, 'fortify': 5, 'jabber': 1, 'Help': 2, 'colonise': 2, 'capitulate': 7, 'twirl': 1, 'meander': 2, 'hve': 1, 'retrain': 1, 'Improve': 2, 'stunt': 2, 'quiet': 1, 'nipple': 1, 'pre-judge': 1, 'under-price': 1, 'oversimplify': 2, 'eddy': 1, 'batter': 2, 'ammend': 1, 'roast': 3, 're-ignite': 2, 'denigrate': 5, 'remonstrate': 5, 'sweat': 8, 'mist': 2, 'interrogate': 4, 'distill': 1, 'decamp': 5, 'chill': 2, 'ape': 3, 'hype': 3, 'deteroriate': 2, 'oppress': 2, 'peg': 10, 'resettle': 6, 'outbid': 4, 'recompress': 1, 'victimise': 1, 'medicate': 1, 'Dream': 1, 'coin': 3, 'pong': 2, 'thumb': 3, 'over-estimate': 5, 're-affirm': 1, 'outshine': 3, 'belie': 1, 're-invest': 3, 'inscribe': 6, 'impinge': 1, 'grill': 5, 'de-legitimise': 1, 'parrot': 2, 'tire': 7, 'pierce': 5, 'augur': 3, 'replan': 1, 'brand': 2, 'kowtow': 1, 'demoralise': 1, 'flex': 3, 'exile': 3, 'demobilise': 2, 'reunify': 2, 're-run': 2, 'appraise': 2, 'fingertip': 1, 'readdress': 1, 'rework': 1, 'unhinge': 1, 'scold': 2, 'stockpile': 1, 'breast': 1, 'mitigate': 15, 'REPLY': 2, 'stoop': 7, 'imperil': 5, 'relaunch': 4, 'headline': 1, 'bark': 6, 'veil': 1, 'Let': 3, 'disseminate': 2, 'lumber': 2, 'shamble': 1, 'enthrall': 1, 'boo': 3, 'semi-abstract': 1, 'spurn': 2, 'decontrol': 1, 're-group': 1, 'raze': 1, 're-employ': 1, 'cement': 6, 'scour': 5, 'Wait': 4, 'pair': 1, 'demerge': 1, 'com': 1, 'over-rule': 1, 'ratchet': 1, 'superimpose': 2, 'advantage': 1, 'buff': 2, 'hymn': 1, 'convalesce': 1, 'over-the-head': 1, 'Send': 1, 'Knock': 1, 'verge': 1, 'inveigh': 1, 'Conquer': 2, 'wan': 2, 'wannabe': 1, 'cosh': 1, 'pee': 4, 'fondle': 3, 'de-regulate': 1, 're-regulate': 1, 'destock': 1, 'menace': 4, 'secede': 3, 'lash': 4, 'number': 3, 'brake': 6, 'huddle': 2, 'Take': 3, 'debar': 1, 'resonate': 2, 'fathom': 11, 'stub': 1, 'rearrange': 6, 'chuckle': 2, 'surcharge': 1, 'eavesdrop': 2, 'reachsouthern': 1, 'output': 2, 'scull': 1, 'extrapolate': 2, 'be-little': 1, 'shade': 3, 'exhort': 2, 're-awaken': 2, 'FORM': 1, 'incarcerate': 2, 'excoriate': 1, 'Provoke': 1, 'USX': 1, 'agglomerate': 1, 'off-set': 2, 'hazard': 1, 'airlift': 2, 'blockade': 2, 'Prevail': 1, 'propagandise': 1, 'mulch': 1, 'swerve': 3, 'instigate': 3, 'key': 3, 'whitewash': 1, 'wallow': 4, 'career': 6, 'estrange': 1, 'strain': 3, 'freckle': 1, 'acccommodate': 1, 'clamber': 7, 'EXACT': 1, 'retro-fit': 1, 'fizz': 2, 'flirt': 5, 'resound': 2, 'glory': 1, 'swamp': 9, 'Remember': 4, 'class': 2, 'Defend': 1, 'legitimize': 1, 'incarnate': 1, 'bludgeon': 2, 'SELL': 1, 'CALL': 1, 'TELEPHONE': 1, 'COST': 1, 'Ask': 1, 'castigate': 2, 'slog': 2, 'collude': 1, 'impale': 3, 'Say': 5, \"with'em\": 1, \"without'em\": 1, 'funnel': 1, 'squander': 2, 'snuff': 5, 'scandalize': 1, 'glisten': 2, 'splay': 1, 'straddle': 1, 'laze': 5, 'swoon': 1, 'raunch': 1, 'shackle': 1, 'imprison': 3, 'edify': 2, 'HANG': 1, 'terrify': 4, 'clamour': 1, 'bust': 2, 'kid': 6, 'cue': 2, 'SWIM': 1, 'throb': 2, 'workout': 1, 'Make': 3, 'remotivate': 1, 'induct': 1, 'ingratiate': 3, 'counterbalance': 2, 'affront': 1, 'chafe': 1, 'gatecrash': 2, 'kindle': 2, 'thatch': 1, 'feast': 2, 'lye': 1, 'foretell': 2, 'de-Newleyfy': 1, 'over-elaborate': 1, 'weasel': 1, 'misunderstand': 6, 'dub': 2, 'ambush': 2, 'encapsulate': 5, 'EFR': 1, 'bill': 2, 'befoul': 1, 'penalize': 5, 'over-balance': 1, 'prod': 5, 'faze': 1, 'bustle': 1, 'certify': 7, 'exasperate': 1, 'gainsay': 2, 'counter-claim': 1, 'populate': 2, 'demobilize': 1, 'stride': 5, 'unhorse': 1, 'demur': 4, 'overstrain': 1, 'abrogate': 1, 'bedevil': 1, 'crystallize': 1, 'sunflower': 1, 'grapeseed': 1, 'baste': 1, 'oxidise': 1, 'lacerate': 2, 'glaze': 3, 'crystallise': 2, 'steep': 1, 'marinade': 1, 'GARNISH': 1, 'over-knead': 1, 'ferment': 1, 'clam': 1, 'fertilise': 1, 'skin': 5, 'vacuum': 1, 'throng': 1, 'see-read-hear': 1, 'echolocate': 2, 'herd': 2, 'stun': 1, 'out-manoeuvre': 2, 'outswim': 1, 'butt': 3, 'interbreed': 2, 'industrialise': 4, 'unfit': 1, 'falsify': 1, 'skipjack': 1, 'albacore': 1, 'refit': 2, 'pillage': 1, 'founder': 3, 'co-sponsor': 1, 'reassess': 12, 'CAUSE': 1, 'malign': 1, 'falter': 9, 'revere': 2, 'elude': 1, 'reschedule': 5, 'slur': 1, 'bamboozle': 1, 'drug': 1, 'romp': 2, 'quadruple': 2, 'ravage': 2, 'boss': 3, 'improvise': 8, 'deform': 2, 'overrule': 5, 'toast': 3, 'detach': 9, 'hog': 2, 'wobble': 4, 'outrank': 2, 'spike': 2, 'edge': 3, 'string': 5, 'encash': 1, 'clump': 1, 'oscillate': 2, 'zip': 1, 'coddle': 1, 'redound': 1, 'reinsure': 1, 'tug': 2, 'swarm': 1, 'lard': 1, 'trickle': 6, 'cluster': 2, 'co-opt': 2, 'dabble': 2, 're-elect': 1, 'mistrust': 2, 'repossess': 2, 'lord': 1, 'outspend': 1, 'decentralise': 5, 'juggle': 6, 'overcharge': 2, 'retrench': 1, 'toil': 2, 'pique': 1, 'theorise': 4, 'frown': 8, 'injure': 7, 'nestle': 1, 'dirty': 4, 'enjoin': 1, 'generalise': 4, 'peddle': 1, 'lavish': 2, 'pain': 1, 'snub': 1, 'mellow': 2, 'stomp': 1, 'pare': 2, 'side': 1, 'wastepaper': 1, 'grease': 3, 'deluge': 1, 'wow': 2, 'siphon': 2, 'see-saw': 1, 'reacquaint': 1, 'moonlight': 1, 'shriek': 3, 'chide': 1, 'lampoon': 1, 'boom': 1, 'cock': 1, 'clot': 1, 'paste': 2, 'jeer': 2, 'misjudge': 3, 'guzzle': 2, 'impair': 5, 'intern': 2, 'under-report': 1, 'triple': 2, 'aggregate': 2, 'tango': 3, 'dispirit': 2, 'upstart': 1, 'mutualise': 1, 'flit': 2, 'lop': 2, 'ply': 2, 'crank': 2, 'dogfight': 1, 'moralise': 1, 'quip': 1, 'bicker': 1, 'scout': 1, 'tar': 1, 'backslide': 1, 'dock': 4, 'debit': 1, 'skirt': 2, 'quintuple': 2, 'rummage': 1, 'out-fox': 1, 'goad': 3, 'slope': 1, 'rustle': 1, 'telecommute': 1, 'gobble': 5, 'rhyme': 3, 'tense': 1, 'gasp': 2, 'roar': 4, 'wail': 2, 'deign': 1, 'smog': 1, 'lament': 3, \"choose'\": 1, 'prize': 1, 'peter': 1, 'corner': 2, 'bemoan': 1, 'spruce': 1, 're-draw': 1, 'memorize': 4, 'matriculate': 1, 'prate': 1, 're-sit': 1, 'disassociate': 5, 'hypothesize': 2, 'distrust': 3, 'yearn': 2, 'imprint': 1, 'void': 1, 'expedite': 1, 'vest': 3, 'distrain': 2, 'cheapen': 2, 'overreach': 1, 'foreclosure': 2, 'materialize': 2, 'acclimatize': 2, 'grit': 1, 'decapitate': 1, 'skid': 1, 'demoralize': 1, 'impugn': 1, 'insinuate': 3, 'soap': 2, 'Rule': 1, 'trot': 10, 'scurry': 1, 'cackle': 2, 'streak': 1, 'clatter': 2, 'slink': 4, 'scamper': 1, 'awestruck': 1, 'PLAY': 2, 'feign': 2, 'lineage': 2, 'acquaint': 3, 'FINISH': 1, 'BRING': 1, 'clothe': 3, 're-stock': 2, 'Keep': 1, 'retake': 3, 'carp': 1, 'vacillate': 1, 'dog': 1, 'misquote': 1, 'misuse': 5, 'pentecost': 1, 'recuperate': 5, \"swell'st\": 1, 'recommence': 3, 'wager': 4, 'dignify': 2, 'copulate': 1, 'earth': 2, 'reel': 4, 'FIND': 3, 'SAIL': 2, 'slough': 2, 'buffet': 2, 'boomerang': 2, 'sod': 1, 'mash': 1, 'sleet': 1, 'whine': 1, 'fettle': 1, 'spotlight': 1, 'ill-afford': 2, 'saddle': 3, 'rejuvenate': 2, 'phase': 4, 'reconnoitre': 1, 'centralise': 4, 'ASK': 1, 're-shape': 1, 'eulogize': 1, 'stab': 5, 'clout': 1, 'bugger': 4, 'staple': 1, 'paw': 6, 'twinkle': 2, 'sidle': 1, 'cadge': 2, 'shag': 2, 'recollect': 2, 'shoplift': 1, 'collar': 2, 'acquit': 1, 'jilt': 1, 'degrade': 12, 'EARN': 1, 'visualize': 7, 'nibble': 6, 'moan': 6, 'wangle': 1, 'ferret': 1, 'fidget': 1, 'whirl': 1, 'outstare': 1, 'thud': 1, 'droop': 7, 'blight': 2, 'bruise': 1, 'jerk': 3, 'breath': 2, 'ladle': 1, 'sparkle': 3, 'shampoo': 2, 'swish': 2, 'Point': 1, 'whimper': 2, 'croak': 1, 'clutch': 2, 'darn': 1, 'overlay': 2, 'perk': 1, 'unbuckle': 1, 'adore': 2, 'barnstorm': 1, 'BATH': 1, 'lunch': 3, 'antagonize': 4, 'WORRY': 1, 'true': 1, 'defile': 1, 'sublimate': 2, 'murmur': 6, 'bath': 3, 'scalp': 1, 'gas': 1, 'foil': 4, 'smelt': 1, 'alloy': 2, 'artefact': 1, 're-sharpen': 1, 'patinate': 1, 'source': 1, 'chip': 2, 'bracket': 1, 'recombine': 1, 'postdate': 2, 'unmask': 1, 'warp': 2, 'preset': 1, 'pre-date': 1, 'baulk': 3, 'immure': 1, 'conjecture': 1, 'knot': 2, 'deaden': 2, 'deprecate': 1, 'entwine': 2, 'reprove': 1, 'perplex': 2, 'baptise': 2, 'scruple': 1, 'sanctify': 2, 'disinter': 1, 'quiver': 1, 'burgle': 1, 'picnic': 2, 'jell': 2, 'hoover': 1, 'bewilder': 2, 'retch': 2, 'thresh': 1, 'capsize': 2, 'blazon': 1, 'relapse': 2, 'blare': 1, 'smudge': 2, 'expatiate': 1, 'sprout': 2, 'toddle': 1, 'flay': 2, 'incommode': 1, 'grovel': 3, 'ante': 1, 'unfurl': 2, 'embuss': 1, 'lever': 4, 'dole': 2, 'heap': 1, 'exalt': 2, 'romanticize': 1, 'stone': 2, 'requite': 1, 'hound': 2, 'powder': 1, \"him'\": 1, 'ripple': 1, 'reflate': 2, 'transpire': 2, 'remilitarize': 1, 'unbalance': 1, 'criminalize': 2, 'occasion': 2, 'aggrieve': 1, 'predetermine': 2, 'legalize': 1, 'whatsisname': 1, 'swingle': 1, 'row': 5, 'pi-n': 1, 'brain': 1, 'strap': 1, 'Hold': 1, 'gouge': 1, \"t'police\": 1, 'lasht': 1, 'shleep': 1, 'rumble': 2, 'evensong': 1, 'spoon': 1, 'crucify': 1, 'sole': 1, 'amass': 1, 'eff': 1, 'bleat': 1, 'splutter': 1, 'mushroom': 2, \"'ear\": 2, 'synchronize': 1, 'segregate': 2, 'gestate': 1, 'resacralize': 1, 'circumcise': 1, 'utilize': 3, 'engrave': 1, 'unknot': 1, 'ovulate': 1, 'internalize': 1, 'hard-to-let': 1, 'ADJUST': 1, 'misinterpret': 1, 'salivate': 1, 'STAND': 1, '22–': 1, 'reestablish': 1, 'CONSIDER': 1, 'hassle': 3, 'thaw': 4, 'Stop': 1, 'beckon': 1, 'refashion': 1, 'KILL': 1, 'trail': 4, 'rave': 2, 'choreograph': 1, 'reinvent': 1, 'co-star': 2, 'Follow': 1, 'grunt': 4, 'mediayob': 1, 'spunk': 2, 'Gang': 1, 'diss': 1, 'remix': 1, 'Dirty': 1, 'front': 3, 'scam': 1, 'parody': 2, 'hardcore': 1, 'gow': 1, 'half-shut': 1, 'slag': 1, 'disrespect': 1, 'CUT': 1, 'batten': 1, 'reseal': 1, 're-align': 1, 'desiccate': 1, 'blackgrass': 1, 'WAIT': 1, 'bobble': 1, 'log': 1, 'WORK': 2, 'WIN': 2, 'gleam': 1, 'hose': 1, 'self-diagnose': 1, 'SOLVE': 1, 'merchandize': 1, 'disclaim': 4, 'sully': 2, 'merchandise': 1, 'Like': 1, 'fray': 1, 'trump': 1, 'seat': 1, 'convulse': 1, 'writhe': 1, 'barge': 2, 'stammer': 2, 'disobey': 3, 'pilfer': 1, 'gape': 1, 'growl': 3, 'dawdle': 1, 'hiss': 2, 'caution': 1, 'snigger': 5, 'chirrup': 1, 'squawk': 1, 'slander': 2, 'swirl': 2, 'singe': 1, 'ornament': 1, 'arm': 4, 'intercrop': 1, '8–9ft': 1, 'cascade': 1, 'underplant': 1, 'clubroot': 1, 'pollinate': 2, 'acidify': 1, 'orientate': 1, 'over-pot': 1, 'over-water': 1, 'compost': 1, 'diffuse': 3, 'over-winter': 1, 'compliment': 1, 'GROW': 2, 'CHOOSE': 1, 'RESIST': 1, 'SUBSCRIBE': 1, 'chicken': 1, 'concrete': 1, 'CHANGE': 1, 'overeat': 1, 'bulge': 2, 'excrete': 1, 'over-exert': 1, 'pant': 1, 'ACHIEVE': 1, 'over-eat': 3, 'snack': 1, 'programme': 2, 'MAKE': 1, 'wholegrain': 1, 'pencil': 1, 'disbelieve': 3, 're-powder': 1, 'overtax': 3, 'abdicate': 1, 'abet': 2, 'unlace': 1, 'compartmentalize': 1, 'politicize': 1, 'chronicle': 1, 'excommunicate': 1, 'Free': 1, 'unsaddle': 6, 'notch': 1, 'exact': 4, 'outstay': 1, 'externalise': 1, 'bleep': 1, 'program': 2, 'dredge': 1, 'society': 1, 'lull': 2, 'spout': 1, 'enfold': 1, 'skulk': 1, 'gush': 2, 'dupe': 1, 'manhandle': 2, 'trash': 1, 'inconvenience': 2, 'corrode': 1, 'pen': 2, 'leer': 1, 'assent': 1, 'enure': 1, 'unstrap': 1, 'size': 1, 'hunch': 1, 'moralize': 2, 'electrocute': 1, 'BEGIN': 1, 'EXCITE': 1, 'GRATIFY': 1, 'refloat': 1, 'pension': 1, 'intercede': 2, 'interject': 2, 'disabuse': 1, 'revivify': 1, 'respectabilize': 1, 'overstate': 1, 'lambast': 1, 'apostatize': 1, 'reimpose': 2, 'reduplicate': 1, 'overflow': 2, 'misconstrue': 1, 'attune': 1, 'exterminate': 2, 'deify': 1, 're-wrap': 1, 'prey': 3, 'trawl': 2, 'cremate': 1, 'gallop': 10, 'canter': 7, 'geld': 1, 'foal': 2, 'purr': 3, 'miaow': 1, 'shoe': 5, 'snort': 1, 'over-react': 1, 'tranquillise': 1, 'mouth': 1, 'nostril': 2, 'swab': 1, 'congeal': 1, 'swat': 1, 'agonise': 2, 'NOTICE': 1, 'repaint': 1, 'perm': 1, 'DISTURB': 1, 'PUMP': 1, 'WEAR': 1, 'twang': 1, 'situate': 1, 'EDW': 1, 'compute': 1, 'under-represent': 1, 'surmise': 1, 'under-estimate': 1, 'TRAVEL': 1, 'gaffer': 1, 'fantasise': 3, 'radio': 1, 'under-': 1, 'bob': 2, 'tarry': 1, 'mangle': 1, 'PROCEED': 1, 'shred': 1, 'freelance': 1, 'solidify': 2, 'balk': 2, 'charter': 1, 'broker': 1, 'implore': 1, 'peep': 2, 'hitchhike': 1, 'refortify': 1, 'hoax': 1, 're-form': 1, 'declaim': 1, 'clank': 2, 'untie': 1, 'revolutionize': 1, 'radiate': 5, 'chisel': 2, 're-record': 1, 'bawl': 1, 'style': 1, 'remit': 2, 'cower': 2, 'abase': 1, 'enfranchise': 1, 'sprawl': 1, 'requisition': 1, 'sociologize': 1, 're-present': 2, 'underlie': 2, 'scrutinize': 1, 'praetorianize': 1, 'disburse': 2, 'circumscribe': 3, 'fine': 1, 'gyrate': 1, 'energise': 2, 'anaesthetise': 1, 'collide': 1, 'pivot': 1, 'school': 1, 'jock': 1, 'oversleep': 1, 'hatchet': 1, 'entangle': 1, 'FETCH': 1, 'curry': 1, 'profile': 1, 'Declare': 1, 'poultice': 1, 'decolonise': 1, 'reconvert': 1, 'snowswept': 1, 're-view': 1, 'knuckle': 1, 'cake': 1, 'ramify': 1, 'ARRIVE': 1, 'ford': 1, 'trek': 1, 'miscarry': 2, 'deactivate': 1, 'kick-start': 2, 'guest': 1, 'titillate': 1, 'chalk': 1, 're-design': 1, 'wing': 1, 'blunder': 2, 'moon': 1, 'rue': 3, 'autograph': 1, 'telescope': 1, 'layer': 1, 'disgust': 1, 'Boggle': 1, 'clang': 1, 're-seal': 1, 'decode': 1, 'ABUSE': 1, 'potter': 1, 'forbear': 1, 'Trust': 4, 'crisscross': 1, 'minicab': 1, 'over-emphasise': 1, 'superintend': 1, 'customise': 1, 'Play': 2, 'PROPHESY': 1, 'emancipate': 1, 'outplay': 1, 'code': 1, 'vocalise': 1, 'shortchange': 1, 'institutionalise': 1, 'normalise': 1, 'detest': 1, 'reallocate': 1, 'deterioriate': 1, 'squeak': 2, 'title': 1, 'eulogise': 1, 'uncork': 1, 're-tune': 2, 'disfigure': 1, 'decree': 1, 'CGCE': 1, 'putt': 2, 'dot': 1, 'maim': 1, 'teem': 1, 're-examine': 8, 'reattach': 1, 'pummel': 1, 'partition': 5, 'daunt': 1, 'simmer': 1, 'exhume': 1, 'Speak': 1, 're-activate': 2, 'snaffle': 1, 'arange': 1, 'out-bowl': 1, 'accustom': 2, 'out-bribe': 1, 'hoot': 1, 'hum': 1, 'imp': 1, 're-suspend': 1, 'Labour-run': 1, 're-phrase': 1, 're-initiate': 1, 're-release': 1, 'Wash': 1, 'gun': 1, '220p–221p': 1, '210p–217p': 1, 'Borrow': 1, 'rebase': 1, 'irk': 1, 'skipper': 1, 'dam': 2, 'gladden': 1, 'Wed': 1, 'mesmerise': 1, 'loop': 1, 'outsmart': 1, 'titrate': 1, 'crisp': 1, 'fork': 1, 'waft': 2, 'prophesy': 2, 'fillet': 1, 'drool': 2, 'outnumber': 1, 'rivet': 1, 'desecrate': 2, 'dynamite': 2, 're-appear': 2, 'sear': 1, 'marinate': 3, 'floor': 1, 'outgun': 1, 'franchise': 2, 'out-glare': 1, 'regale': 1, 'encase': 1, 'litter': 2, 'Hoover': 1, 'CELEBRATE': 1, 'glitter': 1, 'hole': 1, 'over-pitch': 2, 'tonk': 2, 'leapfrog': 1, 'batch': 1, 'poll': 1, 'accrete': 1, 'dethrone': 2, 'volley': 2, 'brim': 1, 'jusify': 1, 'torpedo': 1, 'over-extend': 1, 'reignite': 1, 'shunt': 2, 'headhunt': 1, 're-state': 1, 'tweak': 1, 'curare': 1, 'scant': 1, 'Lend': 1, 'rerun': 1, 'over-egg': 1, 'case': 1, 'ruck': 1, 'Discover': 1, 'ORDER': 1, 'reprocess': 1, 'backdate': 1, 'STAY': 1, 'grant-aid': 3, 'vitiate': 1, 're-vitalise': 1, 'hypothesise': 1, 're-enlist': 1, 'slacken': 1, 'reappoint': 1, 'Come': 2, 'sieve': 1, 'padlock': 1, 'Carry': 1, 'Attend': 2, 'bemuse': 1, 'Allow': 1, 're-settle': 1, 'humanise': 1, 'ennoble': 1, 'pontificate': 1, 'itemise': 1, 'low-output': 1, 'USE': 1, 'button': 1, 'chain': 1, 'duff': 3, 'DUFF': 1, 'overdose': 1, 'unclench': 1, 'jibe': 1, 'reassemble': 1, 'father': 1, 'prowl': 1, \"no'\": 2, \"mak'\": 1, 'haud': 1, 'licht': 1, 'STEP': 1, 'jine': 1, 'gie': 1, 'TEND': 1, 'LEARN': 1, 'rupture': 1, 'Manage': 1, 'prioritize': 1, 'conceptualize': 1, 'pertain': 1, 're-attach': 1, 'pin-point': 2, 'specialize': 2, 'ICT': 1, 'MEASURE': 2, 'honor': 1, 'section': 1, 'ASW': 1, \"'ang\": 1, 'percolate': 1, 'disunite': 1, 'horticulture': 1, 'dislocate': 1, 'admonish': 1, 'vye': 1, 'Bear': 1, 'intermix': 1, 'self-replicate': 3, 'FIM': 2, 'transfill': 1, 'HEAR': 1, 'alkylate': 1, 'methacrylate': 1, 'tetrahydrofolate': 1, 'polyhalogenate': 1, 'secrete': 2, 'habituate': 1, 'potentiate': 2, 'clutter': 1, 'zero': 1, 'metabolise': 2, 'mineralise': 1, 'reoccur': 1, 'gefarnate': 1, 'resource': 2, 'subsume': 1, 'butcher': 1, 'parley': 1, 'besiege': 2, 'winter': 1, 're-occupy': 1, 'rearm': 1, 'paraglide': 1, 'sunbathe': 4, 'chug': 1, 'transit': 1, 'alight': 1, 'forage': 1, 'IEEP': 1, 'Prosecute': 1, 'dose': 1, 'leach': 1, 'retrofit': 1, 'adsorb': 1, 'buffer': 2, 'prospect': 1, 'afforest': 1, 'stonewall': 1, 'TREAT': 1, 'SUPPORT': 1, 'reconnect': 1, 'relight': 1, 'sludge': 1, 'rehang': 1, 'BORROW': 1, 'scribe': 1, 'ice': 1, 'tutor': 2, 'internalise': 1, 'precondition': 1, 'preselect': 1, 'satisfice': 1, 'damge': 1, 'LOWER': 1, 'OWN': 1, 'uncap': 2, 'earmark': 1, 'Learn': 2, 'toot': 1, 'wheel': 1, 'fizzle': 1, 'ramble': 2, 'vegetate': 1, 'underrate': 1, 'foregather': 1, 'fraternise': 1, 'croon': 1, 'Meet': 1, 'hearken': 1, 'deluxe': 1, 'barbecue': 1, 'postulate': 1, 'conjoin': 1, 'disjoin': 1, 're-represent': 1, 'dichotomize': 1, 'introspect': 1, 'symbolize': 1, 'mob': 1, 'antedate': 1, 'sire': 2, 'foreshadow': 1, 'DEVELOP': 1, 'TRADE': 1, 'OFFER': 1, 'recapitalise': 1, 'reawaken': 1, 'derail': 1, 'botanise': 1, 'RECOGNIZE': 2, 'colonize': 2, 'rasp': 2, 'munch': 1, 'etch': 1, 'enroll': 1, 'fossilize': 1, 'tail': 1, 're-fill': 1, 'despatch': 1, 'occure': 1, 're-convene': 1, 'photosynthesize': 1, 'addax': 1, 'catalyze': 1, 'de-convert': 1, 'out-race': 1, 'winch': 1, 'branch': 1, 'port': 1, 'uncurl': 1, 'husband': 1, 'scrabble': 1, 'ready': 1, 'INCLUDE': 1, 'PUT': 1, 'dramatize': 1, 'EAT': 2}\n"
     ]
    }
   ],
   "source": [
    "print(f\"the tags for be checked: VVI\")\n",
    "print(loaded_freq_of_words_for_each_tag.get(\"VVI\"))"
   ]
  },
  {
   "cell_type": "code",
   "execution_count": 22,
   "metadata": {},
   "outputs": [],
   "source": [
    "transition_matrix = np.zeros([len(tags_to_index),len(tags_to_index)])"
   ]
  },
  {
   "cell_type": "code",
   "execution_count": 23,
   "metadata": {},
   "outputs": [],
   "source": [
    "for sentence in sentences:\n",
    "    for word_tag_pair_idx in range(len(sentence.split(\" \"))):\n",
    "        word_tag_pair = sentence.split(\" \")[word_tag_pair_idx]\n",
    "        if len(word_tag_pair.strip()) != 0:\n",
    "            try:\n",
    "                tag = pair.split(\"_\")[1]\n",
    "                if word_tag_pair_idx==0:\n",
    "                    prev_tag = \"start\"\n",
    "                else:\n",
    "                    prev_tag = sentence.split(\" \")[word_tag_pair_idx-1].split(\"_\")[1]\n",
    "                curr_tag = word_tag_pair.split(\"_\")[1]\n",
    "                transition_matrix[tags_to_index[prev_tag]][tags_to_index[curr_tag]] += 1\n",
    "            except:\n",
    "                continue\n",
    "\n",
    "for idx in range(len(tags_to_index)):\n",
    "    total = 0\n",
    "    for idx2 in range(len(tags_to_index)):\n",
    "        total += transition_matrix[idx][idx2]\n",
    "    for idx2 in range(len(tags)):\n",
    "        transition_matrix[idx][idx2] = transition_matrix[idx][idx2]/total"
   ]
  },
  {
   "cell_type": "code",
   "execution_count": 24,
   "metadata": {},
   "outputs": [],
   "source": [
    "np.save(\"Trans_Matrix.npy\",transition_matrix)"
   ]
  },
  {
   "cell_type": "code",
   "execution_count": 25,
   "metadata": {},
   "outputs": [
    {
     "name": "stdout",
     "output_type": "stream",
     "text": [
      "[5.31806095e-03 4.07036204e-02 3.23174473e-02 3.98854571e-03\n",
      " 4.09081612e-03 1.61587237e-02 4.20331356e-02 1.06770301e-01\n",
      " 8.18163224e-03 3.06811209e-04 6.92370628e-02 0.00000000e+00\n",
      " 2.62834936e-02 9.20433627e-04 2.96584169e-03 8.18163224e-04\n",
      " 1.11474739e-02 9.20433627e-04 5.11352015e-04 3.88627531e-03\n",
      " 6.23849458e-03 1.02270403e-04 6.13622418e-04 1.02270403e-04\n",
      " 1.32951524e-03 0.00000000e+00 0.00000000e+00 5.89588873e-01\n",
      " 1.02270403e-04 3.17038249e-03 5.11352015e-04 1.02270403e-04\n",
      " 1.02270403e-04 1.02270403e-03 0.00000000e+00 0.00000000e+00\n",
      " 4.09081612e-04 0.00000000e+00 1.13520147e-02 1.02270403e-04\n",
      " 0.00000000e+00 0.00000000e+00 3.06811209e-04 2.04540806e-04\n",
      " 2.04540806e-04 4.39762733e-03 1.02270403e-04 0.00000000e+00\n",
      " 2.04540806e-04 1.02270403e-04 0.00000000e+00 5.11352015e-04\n",
      " 1.02270403e-04 1.02270403e-04 0.00000000e+00 1.02270403e-04\n",
      " 3.06811209e-04 0.00000000e+00 0.00000000e+00 0.00000000e+00\n",
      " 1.02270403e-04 0.00000000e+00 2.04540806e-04 6.13622418e-04\n",
      " 0.00000000e+00 4.09081612e-04 0.00000000e+00 0.00000000e+00\n",
      " 0.00000000e+00 1.02270403e-04 1.02270403e-04 0.00000000e+00\n",
      " 0.00000000e+00 0.00000000e+00 0.00000000e+00 0.00000000e+00\n",
      " 3.06811209e-04 0.00000000e+00 1.02270403e-04 0.00000000e+00\n",
      " 0.00000000e+00 0.00000000e+00 0.00000000e+00 0.00000000e+00\n",
      " 0.00000000e+00 0.00000000e+00 0.00000000e+00 0.00000000e+00]\n"
     ]
    }
   ],
   "source": [
    "print(transition_matrix[56])"
   ]
  },
  {
   "cell_type": "code",
   "execution_count": 26,
   "metadata": {},
   "outputs": [
    {
     "ename": "NameError",
     "evalue": "name 'tag_to_index' is not defined",
     "output_type": "error",
     "traceback": [
      "\u001b[1;31m---------------------------------------------------------------------------\u001b[0m",
      "\u001b[1;31mNameError\u001b[0m                                 Traceback (most recent call last)",
      "\u001b[1;32m<ipython-input-26-ce2a6e6b4150>\u001b[0m in \u001b[0;36m<module>\u001b[1;34m\u001b[0m\n\u001b[1;32m----> 1\u001b[1;33m \u001b[0mnp\u001b[0m\u001b[1;33m.\u001b[0m\u001b[0msave\u001b[0m\u001b[1;33m(\u001b[0m\u001b[1;34m\"tag_to_index.npy\"\u001b[0m\u001b[1;33m,\u001b[0m\u001b[0mtag_to_index\u001b[0m\u001b[1;33m)\u001b[0m\u001b[1;33m\u001b[0m\u001b[1;33m\u001b[0m\u001b[0m\n\u001b[0m",
      "\u001b[1;31mNameError\u001b[0m: name 'tag_to_index' is not defined"
     ]
    }
   ],
   "source": [
    "#np.save(\"tag_to_index.npy\",tag_to_index)"
   ]
  },
  {
   "cell_type": "code",
   "execution_count": null,
   "metadata": {},
   "outputs": [],
   "source": []
  }
 ],
 "metadata": {
  "kernelspec": {
   "display_name": "Python 3",
   "language": "python",
   "name": "python3"
  },
  "language_info": {
   "codemirror_mode": {
    "name": "ipython",
    "version": 3
   },
   "file_extension": ".py",
   "mimetype": "text/x-python",
   "name": "python",
   "nbconvert_exporter": "python",
   "pygments_lexer": "ipython3",
   "version": "3.8.3"
  }
 },
 "nbformat": 4,
 "nbformat_minor": 4
}
